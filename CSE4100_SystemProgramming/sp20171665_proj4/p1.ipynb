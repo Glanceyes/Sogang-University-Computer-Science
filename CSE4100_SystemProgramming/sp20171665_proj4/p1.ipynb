{
  "nbformat": 4,
  "nbformat_minor": 0,
  "metadata": {
    "colab": {
      "name": "p1.ipynb",
      "version": "0.3.2",
      "provenance": [],
      "collapsed_sections": []
    },
    "kernelspec": {
      "name": "python3",
      "display_name": "Python 3"
    }
  },
  "cells": [
    {
      "cell_type": "code",
      "metadata": {
        "id": "24WP3IdPqhvS",
        "colab_type": "code",
        "outputId": "21d4d35a-9ed1-4e9e-870a-a1ae81fb118e",
        "colab": {
          "base_uri": "https://localhost:8080/",
          "height": 125
        }
      },
      "source": [
        "N = int(input(\"Input: \\n\"))\n",
        "\n",
        "CounterList = []\n",
        "\n",
        "for i in range(N):\n",
        "  CounterList.append(0)\n",
        "\n",
        "InputList = []\n",
        "\n",
        "InputList = list(map(int, input().split()))\n",
        "\n",
        "for i in range(len(InputList)):\n",
        "  if (InputList[i] >= 1 and InputList[i] <= N):\n",
        "    CounterList[InputList[i] - 1] += 1\n",
        "  elif (InputList[i] == N + 1):\n",
        "    MaxValue = 0\n",
        "    for j in range(N):\n",
        "      if (CounterList[j] > MaxValue):\n",
        "        MaxValue = CounterList[j]\n",
        "    for k in range(N):\n",
        "      CounterList[k] = MaxValue\n",
        "      \n",
        "print(\"\\nOutput: \")\n",
        "for l in range(len(CounterList)):\n",
        "  print(\"%d\"%CounterList[l], end=' ')"
      ],
      "execution_count": 0,
      "outputs": [
        {
          "output_type": "stream",
          "text": [
            "Input: \n",
            "5\n",
            "3 4 4 6 1 4 4\n",
            "\n",
            "Output: \n",
            "3 2 2 4 2 "
          ],
          "name": "stdout"
        }
      ]
    }
  ]
}