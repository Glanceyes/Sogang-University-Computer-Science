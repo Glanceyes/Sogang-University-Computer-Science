{
 "cells": [
  {
   "cell_type": "code",
   "execution_count": 1,
   "id": "af554d18",
   "metadata": {},
   "outputs": [
    {
     "name": "stdout",
     "output_type": "stream",
     "text": [
      "Requirement already satisfied: sympy in /Users/glanceyes/opt/anaconda3/envs/venv/lib/python3.7/site-packages (1.10.1)\n",
      "Requirement already satisfied: mpmath>=0.19 in /Users/glanceyes/opt/anaconda3/envs/venv/lib/python3.7/site-packages (from sympy) (1.2.1)\n"
     ]
    }
   ],
   "source": [
    "!pip3 install sympy"
   ]
  },
  {
   "cell_type": "code",
   "execution_count": 2,
   "id": "a85a563d",
   "metadata": {},
   "outputs": [
    {
     "name": "stdout",
     "output_type": "stream",
     "text": [
      "abc\n",
      "def\n",
      "abc\n",
      "def\n",
      "abc\n",
      "def\n",
      "abc\n",
      "def\n",
      "abc\n",
      "def\n",
      "a의 값은 50 입니다.\n",
      "a=50, b=100\n"
     ]
    }
   ],
   "source": [
    "# Python에서 반복문 & 출력문 사용법\n",
    "\n",
    "# i=0으로 초기화하고 각 iteration마다 i는 1씩 증가하는 iteration을 i==5 전까지 반복\n",
    "# C언어로 나타내면 for(int i=0; i<5; i++)와 같음\n",
    "for i in range(0, 5):\n",
    "    print(\"abc\")   # abc를 출력하라\n",
    "    print(\"def\")   # def를 출력하라  => 각 print문 마다 자동으로 줄바꿈(\\n)이 적용됨\n",
    "\n",
    "    \n",
    "# 변수 출력 예시\n",
    "a = 50\n",
    "b = 100\n",
    "print(f\"a의 값은 {a} 입니다.\")\n",
    "print(\"a={}, b={}\".format(a,b))"
   ]
  },
  {
   "cell_type": "code",
   "execution_count": 3,
   "id": "8ed44017",
   "metadata": {},
   "outputs": [
    {
     "name": "stdout",
     "output_type": "stream",
     "text": [
      "1번째 피보나치 항 :1\n",
      "2번째 피보나치 항 :1\n",
      "3번째 피보나치 항 :2\n",
      "4번째 피보나치 항 :3\n",
      "5번째 피보나치 항 :5\n",
      "6번째 피보나치 항 :8\n",
      "7번째 피보나치 항 :13\n",
      "8번째 피보나치 항 :21\n",
      "9번째 피보나치 항 :34\n",
      "10번째 피보나치 항 :55\n"
     ]
    }
   ],
   "source": [
    "# 실습 1-1. 주어진 피보나치 수열의 정의를 이용하여 기본적인 재귀적 풀이 방식으로 n번째 피보나치 수를 구하는 fibo_1 함수를 작성하시오.\n",
    "# fibo_1을 이용하여 피보나치 수열의 1~10번째 항을 반복문을 이용하여 출력하시오.\n",
    "# Hint : 3가지 경우로 분기된 피보나치 수열의 정의식을 그대로 코드로 옮겨보자\n",
    "\n",
    "def fibo_1(n):\n",
    "    #TODO\n",
    "    if (n == 0):\n",
    "        return 0\n",
    "    elif (n == 1):\n",
    "        return 1\n",
    "    return fibo_1(n - 1) + fibo_1(n - 2)\n",
    "\n",
    "for n in range(1, 11):\n",
    "    print(f'{n}번째 피보나치 항 :{fibo_1(n)}')"
   ]
  },
  {
   "cell_type": "code",
   "execution_count": 4,
   "id": "536b51bb",
   "metadata": {},
   "outputs": [
    {
     "name": "stdout",
     "output_type": "stream",
     "text": [
      "1번째 피보나치 항 : 1\n",
      "2번째 피보나치 항 : 1\n",
      "3번째 피보나치 항 : 2\n",
      "4번째 피보나치 항 : 3\n",
      "5번째 피보나치 항 : 5\n",
      "6번째 피보나치 항 : 8\n",
      "7번째 피보나치 항 : 13\n",
      "8번째 피보나치 항 : 21\n",
      "9번째 피보나치 항 : 34\n",
      "10번째 피보나치 항 : 55\n"
     ]
    }
   ],
   "source": [
    "# 실습 1-2. 피보나치 수열의 특징을 이용하여 반복적 풀이 방식으로 n번째 피보나치 수를 구하는 fibo_2 함수를 직성하시오.\n",
    "# fibo_2를 이용하여 피보나치 수열의 1~10번째 항을 반복문을 이용하여 출력하시오.\n",
    "# Hint : 피보나치 수열의 n+1 번째 항은 n-1 번재 항과 n 번째 항을 더한 값이다.\n",
    "\n",
    "def fibo_2(n):\n",
    "    #TODO\n",
    "    x0 = 0\n",
    "    x1 = 1\n",
    "\n",
    "    if (n == 0):\n",
    "        return x0\n",
    "    elif (n == 1):\n",
    "        return x1\n",
    "    \n",
    "    for i in range(2, n + 1):\n",
    "        x2 = x0 + x1\n",
    "        x0 = x1\n",
    "        x1 = x2\n",
    "        \n",
    "    return x2\n",
    "\n",
    "\n",
    "for n in range(1, 11):\n",
    "    print(f'{n}번째 피보나치 항 : {fibo_2(n)}')"
   ]
  },
  {
   "cell_type": "code",
   "execution_count": 5,
   "id": "94a7039c",
   "metadata": {},
   "outputs": [
    {
     "name": "stdout",
     "output_type": "stream",
     "text": [
      "1번째 피보나치 항 : 1\n",
      "2번째 피보나치 항 : 1\n",
      "3번째 피보나치 항 : 2\n",
      "4번째 피보나치 항 : 3\n",
      "5번째 피보나치 항 : 5\n",
      "6번째 피보나치 항 : 8\n",
      "7번째 피보나치 항 : 13\n",
      "8번째 피보나치 항 : 21\n",
      "9번째 피보나치 항 : 34\n",
      "10번째 피보나치 항 : 55\n"
     ]
    }
   ],
   "source": [
    "# 실습 1-3. 동적 계획법과 재귀적 방법 또는 반복문을 이용하여 n번째 피보나치 수를 구하는 fibo_3 함수를 작성하시오\n",
    "# fibo_3을 이용하여 피보나치 수열의 1~10번째 항을 반복문을 이용하여 출력하시오.\n",
    "# Hint : list나 array 같은 자료구조에 n번째 피보나치 수열의 값을 저장한다\n",
    "# Hint(재귀적 방법) : 재귀함수의 재귀 종료조건(=base case)을 n<2, 즉 피보나치 수열의 1번째 항일 때로 설정한다.\n",
    "\n",
    "# 반복문을 사용하였을 경우의 답안\n",
    "\n",
    "\n",
    "def fibo_3(n):\n",
    "    if n < 2:\n",
    "        return n\n",
    "    cache = [0 for _ in range(n+1)]\n",
    "    #TODO\n",
    "    cache[0] = 0\n",
    "    cache[1] = 1\n",
    "\n",
    "    for i in range(2, n+1):\n",
    "        #TODO\n",
    "        cache[i] = cache[i-1] + cache[i-2]\n",
    "\n",
    "    return cache[n]\n",
    "\n",
    "for n in range(1, 11):\n",
    "    print(f'{n}번째 피보나치 항 : {fibo_3(n)}')"
   ]
  },
  {
   "cell_type": "code",
   "execution_count": 6,
   "id": "0691e6da",
   "metadata": {},
   "outputs": [
    {
     "name": "stdout",
     "output_type": "stream",
     "text": [
      "1번째 피보나치 항 : 1\n",
      "2번째 피보나치 항 : 1\n",
      "3번째 피보나치 항 : 2\n",
      "4번째 피보나치 항 : 3\n",
      "5번째 피보나치 항 : 5\n",
      "6번째 피보나치 항 : 8\n",
      "7번째 피보나치 항 : 13\n",
      "8번째 피보나치 항 : 21\n",
      "9번째 피보나치 항 : 34\n",
      "10번째 피보나치 항 : 55\n"
     ]
    }
   ],
   "source": [
    "# 실습 1-3. 재귀를 사용하였을 경우의 답안\n",
    "\n",
    "def fibo_3(n):\n",
    "    cache = [-1 for _ in range(n+1)]\n",
    "\n",
    "    def iterate(n):\n",
    "        if n< 2:\n",
    "            return n\n",
    "        \n",
    "        if cache[n] != -1:\n",
    "            #TODO\n",
    "            return cache[n]\n",
    "        \n",
    "        #TODO\n",
    "        cache[n] = fibo_3(n - 1) + fibo_3(n - 2)\n",
    "        return cache[n]\n",
    "    \n",
    "    return iterate(n)\n",
    "\n",
    "for n in range(1, 11):\n",
    "    print(f'{n}번째 피보나치 항 : {fibo_3(n)}')"
   ]
  },
  {
   "cell_type": "code",
   "execution_count": 7,
   "id": "4d249904",
   "metadata": {},
   "outputs": [
    {
     "name": "stdout",
     "output_type": "stream",
     "text": [
      "[[19 22]\n",
      " [43 50]]\n"
     ]
    }
   ],
   "source": [
    "# NumPy 모듈을 이용한 행렬 곱셈 구현\n",
    "import numpy as np   # numpy 모듈을 np라는 이름으로 현재 소스로 불러오기\n",
    "\n",
    "a = np.array([[1, 2], \n",
    "              [3, 4]])  # 1행이 1, 2고 2행이 3, 4인 2x2 정방행렬 a 정의\n",
    "b = np.array([[5, 6], \n",
    "              [7, 8]])  # 1행이 5, 6이고 2행이 7, 8인 2x2 정방행렬 b 정의\n",
    "c = np.matmul(a, b)   # np.matmul을 이용하여 axb 순으로 행렬곱\n",
    "print(c)"
   ]
  },
  {
   "cell_type": "code",
   "execution_count": 8,
   "id": "a8c1e52f",
   "metadata": {},
   "outputs": [
    {
     "name": "stdout",
     "output_type": "stream",
     "text": [
      "1번째 피보나치 항 : 1\n",
      "2번째 피보나치 항 : 1\n",
      "3번째 피보나치 항 : 2\n",
      "4번째 피보나치 항 : 3\n",
      "5번째 피보나치 항 : 5\n",
      "6번째 피보나치 항 : 8\n",
      "7번째 피보나치 항 : 13\n",
      "8번째 피보나치 항 : 21\n",
      "9번째 피보나치 항 : 34\n",
      "10번째 피보나치 항 : 55\n"
     ]
    }
   ],
   "source": [
    "# 실습 1-4. Numpy를 이용한 행렬 곱셈 풀이를 이용하여 n번째 피보나치 수를 구하는 fibo_4 함수를 작성하시오. \n",
    "# fibo_4를 이용하여 피보나치 수열의 1~10번째 항을 반복문을 이용하여 출력하시오.\n",
    "# Hint : Numpy 모듈의 행렬곱 함수와 피보나치 수열의 행렬곱 관계를 참고한다.\n",
    "\n",
    "import numpy as np\n",
    "\n",
    "def fibo_4(n):\n",
    "    base = np.array([[1, 1], [1, 0]]) # 곱셈을 시작해 나갈 기본 행렬\n",
    "    result = np.array([[1, 0], [0, 1]])\n",
    "\n",
    "    for _ in range(n):\n",
    "        #TODO\n",
    "        result = np.matmul(result, base)\n",
    "    return result[0][1]\n",
    "\n",
    "for n in range(1, 11):\n",
    "    print(f'{n}번째 피보나치 항 : {fibo_4(n)}')"
   ]
  },
  {
   "cell_type": "code",
   "execution_count": 9,
   "id": "afd3540b",
   "metadata": {},
   "outputs": [
    {
     "name": "stdout",
     "output_type": "stream",
     "text": [
      "1번째 피보나치 항 : 1\n",
      "2번째 피보나치 항 : 1\n",
      "3번째 피보나치 항 : 2\n",
      "4번째 피보나치 항 : 3\n",
      "5번째 피보나치 항 : 5\n",
      "6번째 피보나치 항 : 8\n",
      "7번째 피보나치 항 : 13\n",
      "8번째 피보나치 항 : 21\n",
      "9번째 피보나치 항 : 34\n",
      "10번째 피보나치 항 : 55\n"
     ]
    }
   ],
   "source": [
    "# 실습 1-5. 행렬 곱셈을 이용한 풀이를 이용하여 실습 1-4 문제를 해결하는 fibo_5 함수를 구현하시오. \n",
    "# 단, numpy를 사용하지말고 시간 복잡도를 𝑂(log_2⁡𝑛)으로 줄일 것\n",
    "# fibo_5를 이용하여 피보나치 수열의 1~10번째 항을 반복문을 이용하여 출력하시오.\n",
    "# Hint : ppt 참조\n",
    "\n",
    "def fibo_5(n):\n",
    "    SIZE = 2\n",
    "    ZERO = np.array([[1, 0], [0, 1]]) # 행렬의 항등원\n",
    "    BASE = np.array([[1, 1], [1, 0]]) # 곱셈을 시작해 나갈 기본 행렬\n",
    "\n",
    "    # 두 행렬의 곱을 구한다\n",
    "    def square_matrix_mul(a, b, size=SIZE):\n",
    "        #TODO\n",
    "        return np.matmul(a, b)\n",
    "        \n",
    "\n",
    "    # 기본 행렬을 n번 곱한 행렬을 만든다\n",
    "    def get_nth(n):\n",
    "        matrix = ZERO.copy()\n",
    "        k = 0\n",
    "        tmp = BASE.copy()\n",
    "\n",
    "        while 2 ** k <= n:   # 비트 연산을 이용하여 n \n",
    "            if (n & (2 ** k)) != 0:\n",
    "                matrix = square_matrix_mul(matrix, tmp)\n",
    "            k += 1\n",
    "            tmp = square_matrix_mul(tmp, tmp)\n",
    "\n",
    "        return matrix\n",
    "\n",
    "    return get_nth(n)[0][1]\n",
    "\n",
    "for n in range(1, 11):\n",
    "    print(f'{n}번째 피보나치 항 : {fibo_5(n)}')"
   ]
  },
  {
   "cell_type": "code",
   "execution_count": 10,
   "id": "9e029d20",
   "metadata": {},
   "outputs": [
    {
     "name": "stdout",
     "output_type": "stream",
     "text": [
      "비트 연산 and(&), or(|), xor(^) \n",
      "16\n",
      "27\n",
      "11\n",
      "---------------------------------\n",
      "\n",
      "비트 연산 shift << \n",
      "6\n",
      "12\n",
      "---------------------------------\n",
      "\n",
      "비트 연산 shift >> \n",
      "18\n",
      "9\n",
      "---------------------------------\n",
      "\n"
     ]
    }
   ],
   "source": [
    "# 실습 1-5 : Hint 3 관련 소스\n",
    "\n",
    "# 비트연산 : and(&), or(|), xor(^)\n",
    "print(\"비트 연산 and(&), or(|), xor(^) \")\n",
    "a = 18     # 10010\n",
    "b = 25     # 11001\n",
    "print(a & b)     # 10010 & 11001 => 10000 (= 16, 같은 위치의 두 비트가 둘 다 1이면 1. 둘 다 0이거나 다르면 0)\n",
    "print(a | b)     # 10010 | 11001 => 11011 (= 27, 같은 위치의 두 비트 둘 중 하나가 1일 경우 1, 나머지는 0)\n",
    "print(a ^ b)     # 10010 ^ 11001 => 01011 (= 11, 같은 위치의 두 비트가 다르면 1, 같으면 0)\n",
    "print(\"---------------------------------\\n\")\n",
    "\n",
    "# 비트 연산 : shift\n",
    "# A << B : A를 비트 단위에서 왼쪽으로 B만큼 이동\n",
    "# a << 1 연산은 a에 2를 곱한 것과 같다\n",
    "print(\"비트 연산 shift << \")\n",
    "a = 3     # 11\n",
    "print(a << 1)     # 11 => 110 (= 6)\n",
    "print(a << 2)     # 11 => 1100 (= 12)\n",
    "print(\"---------------------------------\\n\")\n",
    "\n",
    "# A >> B : A를 비트 단위에서 오른쪽으로 B만큼 이동\n",
    "# a >> 1 연산은 a에 2를 나눈 것과 같다\n",
    "print(\"비트 연산 shift >> \")\n",
    "a = 37     # 100101\n",
    "print(a >> 1)     # 100101 => 10010 (= 18)\n",
    "print(a >> 2)     # 100101 => 1001 (= 9)\n",
    "print(\"---------------------------------\\n\")\n"
   ]
  },
  {
   "cell_type": "code",
   "execution_count": 11,
   "id": "7eced784",
   "metadata": {},
   "outputs": [
    {
     "name": "stdout",
     "output_type": "stream",
     "text": [
      "x =  [3]\n",
      "<class 'list'>\n",
      "2의 root 값 :  1.4142135623730951\n"
     ]
    }
   ],
   "source": [
    "# Sympy 사용법\n",
    "import sympy   # Symbolic mathemathics of Python. 수학 공식 정의 및 풀이 관련 파이썬 패키지\n",
    "\n",
    "# ex) 6x - 1 = x + 14 라는 방정식의 해를 구하려면\n",
    "x = sympy.symbols(\"x\")   # 변수 x 정의\n",
    "f = sympy.Eq(6*x-1, x+14)   # 방정식의 좌항, 우항을 차례대로 정의\n",
    "print('x = ', sympy.solve(f))   # solve() 함수로 방정식 f의 해 구하기\n",
    "print(type(sympy.solve(f)))   # 해의 type은 list로 방정식의 모든 해를 원소 값으로 가진다.\n",
    "\n",
    "\n",
    "# Python에서 제곱근(Square Root) 구하는 방법\n",
    "import math   # 수학 관련 함수가 있는 파이썬 기본 패키지\n",
    "a = 2\n",
    "print('2의 root 값 : ', math.sqrt(a))   # math 패키지의 sqrt() 함수 사용"
   ]
  },
  {
   "cell_type": "code",
   "execution_count": 12,
   "id": "098e560e",
   "metadata": {},
   "outputs": [
    {
     "name": "stdout",
     "output_type": "stream",
     "text": [
      "식 f의 해 : [1/2 - sqrt(5)/2, 1/2 + sqrt(5)/2]\n",
      "황금비 : 1:1.618033988749895\n"
     ]
    }
   ],
   "source": [
    "# 실습 2-1. 황금비의 정의와 sympy, math 패키지를 이용하여 황금비를 실수 형태로 출력하시오.\n",
    "\n",
    "x = sympy.symbols(\"x\") # 변수 x 정의\n",
    "f = sympy.Eq(x*x, x+1)  # x:1=x+1:x의 내항과 외항을 곱하면 x^2=x+1인데 이 방정식을 sympy를 이용하여 정의\n",
    "print(f'식 f의 해 : {sympy.solve(f)}')  # solve 메소드를 사용하여 식 f에 대한 symbol x의 해를 구함\n",
    "print(f'황금비 : 1:{float(sympy.solve(f)[0]) if sympy.solve(f)[0] > 0 else float(sympy.solve(f)[1]) }')  # 방정식의 해 중 양수 값의 황금비 출력"
   ]
  },
  {
   "cell_type": "code",
   "execution_count": 13,
   "id": "80916cfd",
   "metadata": {},
   "outputs": [
    {
     "name": "stdout",
     "output_type": "stream",
     "text": [
      "1과 2번째 피보나치 수열의 비율 : 1.0\n",
      "2과 3번째 피보나치 수열의 비율 : 2.0\n",
      "3과 4번째 피보나치 수열의 비율 : 1.5\n",
      "4과 5번째 피보나치 수열의 비율 : 1.6666666666666667\n",
      "5과 6번째 피보나치 수열의 비율 : 1.6\n",
      "6과 7번째 피보나치 수열의 비율 : 1.625\n",
      "7과 8번째 피보나치 수열의 비율 : 1.6153846153846154\n",
      "8과 9번째 피보나치 수열의 비율 : 1.619047619047619\n",
      "9과 10번째 피보나치 수열의 비율 : 1.6176470588235294\n",
      "10과 11번째 피보나치 수열의 비율 : 1.6181818181818182\n",
      "11과 12번째 피보나치 수열의 비율 : 1.6179775280898876\n",
      "12과 13번째 피보나치 수열의 비율 : 1.6180555555555556\n",
      "13과 14번째 피보나치 수열의 비율 : 1.6180257510729614\n",
      "14과 15번째 피보나치 수열의 비율 : 1.6180371352785146\n",
      "15과 16번째 피보나치 수열의 비율 : 1.618032786885246\n"
     ]
    }
   ],
   "source": [
    "# 실습 2-2. 실습 1에서 만든 피보나치 수열을 구하는 함수를 이용하여 피보나치 수열 15번째까지의 원소들에 대하여 n+1번째 항과 n번째 항의 \n",
    "# 비율을 구하고 해당 비율이 어떤 값으로 수렴해나가는지 관찰해보시오.\n",
    "# Hint : (n+1) / (n) 의 비율을 구하면 실습 2-1에서 구한 황금비의 값과 같아짐을 알 수 있다.\n",
    "\n",
    "def fibo(n):\n",
    "    #TODO\n",
    "    def get_fibo(n):\n",
    "        if n <= 1:\n",
    "            return 1\n",
    "        else:\n",
    "            return get_fibo(n-1) + get_fibo(n-2)\n",
    "    \n",
    "    return get_fibo(n) / get_fibo(n - 1)\n",
    "    \n",
    "\n",
    "fibo_ratio_list = list()\n",
    "for n in range(1, 16):\n",
    "    fibo_ratio = fibo(n)\n",
    "    fibo_ratio_list.append(fibo_ratio)\n",
    "    print(f'{n}과 {n+1}번째 피보나치 수열의 비율 : {fibo_ratio}')\n",
    "    "
   ]
  },
  {
   "cell_type": "code",
   "execution_count": 14,
   "id": "d54bffac",
   "metadata": {},
   "outputs": [
    {
     "name": "stdout",
     "output_type": "stream",
     "text": [
      "Put clearscreen() as the first line in a cell (after the import command) to re-run turtle commands in the cell\n"
     ]
    },
    {
     "data": {
      "text/html": [
       "\n",
       "      <svg width=\"800\" height=\"600\">  \n",
       "        <rect width=\"100%\" height=\"100%\" style=\"fill:white;stroke:;stroke-width:1\"/>\n",
       "        \n",
       "        \n",
       "        \n",
       "        \n",
       "        \n",
       "        <g id=\"classic\" visibility=\"visible\" transform=\"rotate(-90,400.0,300.0) translate(400.0, 300.0)\">\n",
       "<polygon points=\"-5,-4.5 0,-2.5 5,-4.5 0,4.5\" transform=\"skewX(0) scale(1,1)\" style=\"stroke:black;fill:black;stroke-width:1\" />\n",
       "</g>\n",
       "      </svg>\n",
       "    "
      ],
      "text/plain": [
       "<IPython.core.display.HTML object>"
      ]
     },
     "metadata": {},
     "output_type": "display_data"
    },
    {
     "data": {
      "text/html": [
       "\n",
       "      <svg width=\"1500\" height=\"1500\">  \n",
       "        <rect width=\"100%\" height=\"100%\" style=\"fill:white;stroke:;stroke-width:1\"/>\n",
       "        \n",
       "        \n",
       "        <line x1=\"750.0\" y1=\"750.0\" x2=\"750.0\" y2=\"760.0\" stroke-linecap=\"round\" style=\"stroke:black;stroke-width:3\" /><line x1=\"750.0\" y1=\"760.0\" x2=\"760.0\" y2=\"760.0\" stroke-linecap=\"round\" style=\"stroke:black;stroke-width:3\" /><line x1=\"760.0\" y1=\"760.0\" x2=\"760.0\" y2=\"750.0\" stroke-linecap=\"round\" style=\"stroke:black;stroke-width:3\" /><line x1=\"760.0\" y1=\"750.0\" x2=\"750.0\" y2=\"750.0\" stroke-linecap=\"round\" style=\"stroke:black;stroke-width:3\" /><line x1=\"750.0\" y1=\"750.0\" x2=\"750.0\" y2=\"760.0\" stroke-linecap=\"round\" style=\"stroke:black;stroke-width:3\" /><line x1=\"750.0\" y1=\"760.0\" x2=\"760.0\" y2=\"760.0\" stroke-linecap=\"round\" style=\"stroke:black;stroke-width:3\" /><line x1=\"760.0\" y1=\"760.0\" x2=\"770.0\" y2=\"760.0\" stroke-linecap=\"round\" style=\"stroke:black;stroke-width:3\" /><line x1=\"770.0\" y1=\"760.0\" x2=\"770.0\" y2=\"750.0\" stroke-linecap=\"round\" style=\"stroke:black;stroke-width:3\" /><line x1=\"770.0\" y1=\"750.0\" x2=\"760.0\" y2=\"750.0\" stroke-linecap=\"round\" style=\"stroke:black;stroke-width:3\" /><line x1=\"760.0\" y1=\"750.0\" x2=\"760.0\" y2=\"760.0\" stroke-linecap=\"round\" style=\"stroke:black;stroke-width:3\" /><line x1=\"760.0\" y1=\"760.0\" x2=\"770.0\" y2=\"760.0\" stroke-linecap=\"round\" style=\"stroke:black;stroke-width:3\" /><line x1=\"770.0\" y1=\"760.0\" x2=\"770.0\" y2=\"750.0\" stroke-linecap=\"round\" style=\"stroke:black;stroke-width:3\" /><line x1=\"770.0\" y1=\"750.0\" x2=\"770.0\" y2=\"730.0\" stroke-linecap=\"round\" style=\"stroke:black;stroke-width:3\" /><line x1=\"770.0\" y1=\"730.0\" x2=\"750.0\" y2=\"730.0\" stroke-linecap=\"round\" style=\"stroke:black;stroke-width:3\" /><line x1=\"750.0\" y1=\"730.0\" x2=\"750.0\" y2=\"750.0\" stroke-linecap=\"round\" style=\"stroke:black;stroke-width:3\" /><line x1=\"750.0\" y1=\"750.0\" x2=\"770.0\" y2=\"750.0\" stroke-linecap=\"round\" style=\"stroke:black;stroke-width:3\" /><line x1=\"770.0\" y1=\"750.0\" x2=\"770.0\" y2=\"730.0\" stroke-linecap=\"round\" style=\"stroke:black;stroke-width:3\" /><line x1=\"770.0\" y1=\"730.0\" x2=\"750.0\" y2=\"730.0\" stroke-linecap=\"round\" style=\"stroke:black;stroke-width:3\" /><line x1=\"750.0\" y1=\"730.0\" x2=\"720.0\" y2=\"730.0\" stroke-linecap=\"round\" style=\"stroke:black;stroke-width:3\" /><line x1=\"720.0\" y1=\"730.0\" x2=\"720.0\" y2=\"760.0\" stroke-linecap=\"round\" style=\"stroke:black;stroke-width:3\" /><line x1=\"720.0\" y1=\"760.0\" x2=\"750.0\" y2=\"760.0\" stroke-linecap=\"round\" style=\"stroke:black;stroke-width:3\" /><line x1=\"750.0\" y1=\"760.0\" x2=\"750.0\" y2=\"730.0\" stroke-linecap=\"round\" style=\"stroke:black;stroke-width:3\" /><line x1=\"750.0\" y1=\"730.0\" x2=\"720.0\" y2=\"730.0\" stroke-linecap=\"round\" style=\"stroke:black;stroke-width:3\" /><line x1=\"720.0\" y1=\"730.0\" x2=\"720.0\" y2=\"760.0\" stroke-linecap=\"round\" style=\"stroke:black;stroke-width:3\" /><line x1=\"720.0\" y1=\"760.0\" x2=\"720.0\" y2=\"810.0\" stroke-linecap=\"round\" style=\"stroke:black;stroke-width:3\" /><line x1=\"720.0\" y1=\"810.0\" x2=\"770.0\" y2=\"810.0\" stroke-linecap=\"round\" style=\"stroke:black;stroke-width:3\" /><line x1=\"770.0\" y1=\"810.0\" x2=\"770.0\" y2=\"760.0\" stroke-linecap=\"round\" style=\"stroke:black;stroke-width:3\" /><line x1=\"770.0\" y1=\"760.0\" x2=\"720.0\" y2=\"760.0\" stroke-linecap=\"round\" style=\"stroke:black;stroke-width:3\" /><line x1=\"720.0\" y1=\"760.0\" x2=\"720.0\" y2=\"810.0\" stroke-linecap=\"round\" style=\"stroke:black;stroke-width:3\" /><line x1=\"720.0\" y1=\"810.0\" x2=\"770.0\" y2=\"810.0\" stroke-linecap=\"round\" style=\"stroke:black;stroke-width:3\" /><line x1=\"770.0\" y1=\"810.0\" x2=\"850.0\" y2=\"810.0\" stroke-linecap=\"round\" style=\"stroke:black;stroke-width:3\" /><line x1=\"850.0\" y1=\"810.0\" x2=\"850.0\" y2=\"730.0\" stroke-linecap=\"round\" style=\"stroke:black;stroke-width:3\" /><line x1=\"850.0\" y1=\"730.0\" x2=\"770.0\" y2=\"730.0\" stroke-linecap=\"round\" style=\"stroke:black;stroke-width:3\" /><line x1=\"770.0\" y1=\"730.0\" x2=\"770.0\" y2=\"810.0\" stroke-linecap=\"round\" style=\"stroke:black;stroke-width:3\" /><line x1=\"770.0\" y1=\"810.0\" x2=\"850.0\" y2=\"810.0\" stroke-linecap=\"round\" style=\"stroke:black;stroke-width:3\" /><line x1=\"850.0\" y1=\"810.0\" x2=\"850.0\" y2=\"730.0\" stroke-linecap=\"round\" style=\"stroke:black;stroke-width:3\" /><line x1=\"850.0\" y1=\"730.0\" x2=\"850.0\" y2=\"600.0\" stroke-linecap=\"round\" style=\"stroke:black;stroke-width:3\" /><line x1=\"850.0\" y1=\"600.0\" x2=\"720.0\" y2=\"600.0\" stroke-linecap=\"round\" style=\"stroke:black;stroke-width:3\" /><line x1=\"720.0\" y1=\"600.0\" x2=\"720.0\" y2=\"730.0\" stroke-linecap=\"round\" style=\"stroke:black;stroke-width:3\" /><line x1=\"720.0\" y1=\"730.0\" x2=\"850.0\" y2=\"730.0\" stroke-linecap=\"round\" style=\"stroke:black;stroke-width:3\" /><line x1=\"850.0\" y1=\"730.0\" x2=\"850.0\" y2=\"600.0\" stroke-linecap=\"round\" style=\"stroke:black;stroke-width:3\" /><line x1=\"850.0\" y1=\"600.0\" x2=\"720.0\" y2=\"600.0\" stroke-linecap=\"round\" style=\"stroke:black;stroke-width:3\" /><line x1=\"720.0\" y1=\"600.0\" x2=\"510.0\" y2=\"600.0\" stroke-linecap=\"round\" style=\"stroke:black;stroke-width:3\" /><line x1=\"510.0\" y1=\"600.0\" x2=\"510.0\" y2=\"810.0\" stroke-linecap=\"round\" style=\"stroke:black;stroke-width:3\" /><line x1=\"510.0\" y1=\"810.0\" x2=\"720.0\" y2=\"810.0\" stroke-linecap=\"round\" style=\"stroke:black;stroke-width:3\" /><line x1=\"720.0\" y1=\"810.0\" x2=\"720.0\" y2=\"600.0\" stroke-linecap=\"round\" style=\"stroke:black;stroke-width:3\" /><line x1=\"720.0\" y1=\"600.0\" x2=\"510.0\" y2=\"600.0\" stroke-linecap=\"round\" style=\"stroke:black;stroke-width:3\" /><line x1=\"510.0\" y1=\"600.0\" x2=\"510.0\" y2=\"810.0\" stroke-linecap=\"round\" style=\"stroke:black;stroke-width:3\" /><line x1=\"510.0\" y1=\"810.0\" x2=\"510.0\" y2=\"1150.0\" stroke-linecap=\"round\" style=\"stroke:black;stroke-width:3\" /><line x1=\"510.0\" y1=\"1150.0\" x2=\"850.0\" y2=\"1150.0\" stroke-linecap=\"round\" style=\"stroke:black;stroke-width:3\" /><line x1=\"850.0\" y1=\"1150.0\" x2=\"850.0\" y2=\"810.0\" stroke-linecap=\"round\" style=\"stroke:black;stroke-width:3\" /><line x1=\"850.0\" y1=\"810.0\" x2=\"510.0\" y2=\"810.0\" stroke-linecap=\"round\" style=\"stroke:black;stroke-width:3\" /><line x1=\"510.0\" y1=\"810.0\" x2=\"510.0\" y2=\"1150.0\" stroke-linecap=\"round\" style=\"stroke:black;stroke-width:3\" /><line x1=\"510.0\" y1=\"1150.0\" x2=\"850.0\" y2=\"1150.0\" stroke-linecap=\"round\" style=\"stroke:black;stroke-width:3\" /><line x1=\"850.0\" y1=\"1150.0\" x2=\"1400.0\" y2=\"1150.0\" stroke-linecap=\"round\" style=\"stroke:black;stroke-width:3\" /><line x1=\"1400.0\" y1=\"1150.0\" x2=\"1400.0\" y2=\"600.0\" stroke-linecap=\"round\" style=\"stroke:black;stroke-width:3\" /><line x1=\"1400.0\" y1=\"600.0\" x2=\"850.0\" y2=\"600.0\" stroke-linecap=\"round\" style=\"stroke:black;stroke-width:3\" /><line x1=\"850.0\" y1=\"600.0\" x2=\"850.0\" y2=\"1150.0\" stroke-linecap=\"round\" style=\"stroke:black;stroke-width:3\" /><line x1=\"850.0\" y1=\"1150.0\" x2=\"1400.0\" y2=\"1150.0\" stroke-linecap=\"round\" style=\"stroke:black;stroke-width:3\" /><line x1=\"1400.0\" y1=\"1150.0\" x2=\"1400.0\" y2=\"600.0\" stroke-linecap=\"round\" style=\"stroke:black;stroke-width:3\" /><line x1=\"750.0\" y1=\"750.0\" x2=\"750.766\" y2=\"753.852\" stroke-linecap=\"round\" style=\"stroke:black;stroke-width:3\" /><line x1=\"750.766\" y1=\"753.852\" x2=\"752.948\" y2=\"757.117\" stroke-linecap=\"round\" style=\"stroke:black;stroke-width:3\" /><line x1=\"752.948\" y1=\"757.117\" x2=\"756.213\" y2=\"759.299\" stroke-linecap=\"round\" style=\"stroke:black;stroke-width:3\" /><line x1=\"756.213\" y1=\"759.299\" x2=\"760.065\" y2=\"760.065\" stroke-linecap=\"round\" style=\"stroke:black;stroke-width:3\" /><line x1=\"760.065\" y1=\"760.065\" x2=\"763.917\" y2=\"759.299\" stroke-linecap=\"round\" style=\"stroke:black;stroke-width:3\" /><line x1=\"763.917\" y1=\"759.299\" x2=\"767.182\" y2=\"757.117\" stroke-linecap=\"round\" style=\"stroke:black;stroke-width:3\" /><line x1=\"767.182\" y1=\"757.117\" x2=\"769.364\" y2=\"753.852\" stroke-linecap=\"round\" style=\"stroke:black;stroke-width:3\" /><line x1=\"769.364\" y1=\"753.852\" x2=\"770.13\" y2=\"750.0\" stroke-linecap=\"round\" style=\"stroke:black;stroke-width:3\" /><line x1=\"770.13\" y1=\"750.0\" x2=\"769.745\" y2=\"746.092\" stroke-linecap=\"round\" style=\"stroke:black;stroke-width:3\" /><line x1=\"769.745\" y1=\"746.092\" x2=\"768.605\" y2=\"742.334\" stroke-linecap=\"round\" style=\"stroke:black;stroke-width:3\" /><line x1=\"768.605\" y1=\"742.334\" x2=\"766.754\" y2=\"738.871\" stroke-linecap=\"round\" style=\"stroke:black;stroke-width:3\" /><line x1=\"766.754\" y1=\"738.871\" x2=\"764.263\" y2=\"735.835\" stroke-linecap=\"round\" style=\"stroke:black;stroke-width:3\" /><line x1=\"764.263\" y1=\"735.835\" x2=\"761.227\" y2=\"733.344\" stroke-linecap=\"round\" style=\"stroke:black;stroke-width:3\" /><line x1=\"761.227\" y1=\"733.344\" x2=\"757.764\" y2=\"731.493\" stroke-linecap=\"round\" style=\"stroke:black;stroke-width:3\" /><line x1=\"757.764\" y1=\"731.493\" x2=\"754.006\" y2=\"730.353\" stroke-linecap=\"round\" style=\"stroke:black;stroke-width:3\" /><line x1=\"754.006\" y1=\"730.353\" x2=\"750.098\" y2=\"729.968\" stroke-linecap=\"round\" style=\"stroke:black;stroke-width:3\" /><line x1=\"750.098\" y1=\"729.968\" x2=\"746.179\" y2=\"730.225\" stroke-linecap=\"round\" style=\"stroke:black;stroke-width:3\" /><line x1=\"746.179\" y1=\"730.225\" x2=\"742.327\" y2=\"730.991\" stroke-linecap=\"round\" style=\"stroke:black;stroke-width:3\" /><line x1=\"742.327\" y1=\"730.991\" x2=\"738.608\" y2=\"732.253\" stroke-linecap=\"round\" style=\"stroke:black;stroke-width:3\" /><line x1=\"738.608\" y1=\"732.253\" x2=\"735.086\" y2=\"733.99\" stroke-linecap=\"round\" style=\"stroke:black;stroke-width:3\" /><line x1=\"735.086\" y1=\"733.99\" x2=\"731.821\" y2=\"736.172\" stroke-linecap=\"round\" style=\"stroke:black;stroke-width:3\" /><line x1=\"731.821\" y1=\"736.172\" x2=\"728.869\" y2=\"738.761\" stroke-linecap=\"round\" style=\"stroke:black;stroke-width:3\" /><line x1=\"728.869\" y1=\"738.761\" x2=\"726.28\" y2=\"741.713\" stroke-linecap=\"round\" style=\"stroke:black;stroke-width:3\" /><line x1=\"726.28\" y1=\"741.713\" x2=\"724.098\" y2=\"744.978\" stroke-linecap=\"round\" style=\"stroke:black;stroke-width:3\" /><line x1=\"724.098\" y1=\"744.978\" x2=\"722.361\" y2=\"748.5\" stroke-linecap=\"round\" style=\"stroke:black;stroke-width:3\" /><line x1=\"722.361\" y1=\"748.5\" x2=\"721.099\" y2=\"752.219\" stroke-linecap=\"round\" style=\"stroke:black;stroke-width:3\" /><line x1=\"721.099\" y1=\"752.219\" x2=\"720.333\" y2=\"756.071\" stroke-linecap=\"round\" style=\"stroke:black;stroke-width:3\" /><line x1=\"720.333\" y1=\"756.071\" x2=\"720.076\" y2=\"759.99\" stroke-linecap=\"round\" style=\"stroke:black;stroke-width:3\" /><line x1=\"720.076\" y1=\"759.99\" x2=\"720.23\" y2=\"763.914\" stroke-linecap=\"round\" style=\"stroke:black;stroke-width:3\" /><line x1=\"720.23\" y1=\"763.914\" x2=\"720.692\" y2=\"767.814\" stroke-linecap=\"round\" style=\"stroke:black;stroke-width:3\" /><line x1=\"720.692\" y1=\"767.814\" x2=\"721.458\" y2=\"771.666\" stroke-linecap=\"round\" style=\"stroke:black;stroke-width:3\" /><line x1=\"721.458\" y1=\"771.666\" x2=\"722.524\" y2=\"775.446\" stroke-linecap=\"round\" style=\"stroke:black;stroke-width:3\" /><line x1=\"722.524\" y1=\"775.446\" x2=\"723.883\" y2=\"779.13\" stroke-linecap=\"round\" style=\"stroke:black;stroke-width:3\" /><line x1=\"723.883\" y1=\"779.13\" x2=\"725.527\" y2=\"782.696\" stroke-linecap=\"round\" style=\"stroke:black;stroke-width:3\" /><line x1=\"725.527\" y1=\"782.696\" x2=\"727.446\" y2=\"786.122\" stroke-linecap=\"round\" style=\"stroke:black;stroke-width:3\" /><line x1=\"727.446\" y1=\"786.122\" x2=\"729.628\" y2=\"789.387\" stroke-linecap=\"round\" style=\"stroke:black;stroke-width:3\" /><line x1=\"729.628\" y1=\"789.387\" x2=\"732.059\" y2=\"792.471\" stroke-linecap=\"round\" style=\"stroke:black;stroke-width:3\" /><line x1=\"732.059\" y1=\"792.471\" x2=\"734.725\" y2=\"795.355\" stroke-linecap=\"round\" style=\"stroke:black;stroke-width:3\" /><line x1=\"734.725\" y1=\"795.355\" x2=\"737.609\" y2=\"798.021\" stroke-linecap=\"round\" style=\"stroke:black;stroke-width:3\" /><line x1=\"737.609\" y1=\"798.021\" x2=\"740.693\" y2=\"800.452\" stroke-linecap=\"round\" style=\"stroke:black;stroke-width:3\" /><line x1=\"740.693\" y1=\"800.452\" x2=\"743.958\" y2=\"802.634\" stroke-linecap=\"round\" style=\"stroke:black;stroke-width:3\" /><line x1=\"743.958\" y1=\"802.634\" x2=\"747.384\" y2=\"804.553\" stroke-linecap=\"round\" style=\"stroke:black;stroke-width:3\" /><line x1=\"747.384\" y1=\"804.553\" x2=\"750.95\" y2=\"806.197\" stroke-linecap=\"round\" style=\"stroke:black;stroke-width:3\" /><line x1=\"750.95\" y1=\"806.197\" x2=\"754.634\" y2=\"807.556\" stroke-linecap=\"round\" style=\"stroke:black;stroke-width:3\" /><line x1=\"754.634\" y1=\"807.556\" x2=\"758.414\" y2=\"808.622\" stroke-linecap=\"round\" style=\"stroke:black;stroke-width:3\" /><line x1=\"758.414\" y1=\"808.622\" x2=\"762.266\" y2=\"809.388\" stroke-linecap=\"round\" style=\"stroke:black;stroke-width:3\" /><line x1=\"762.266\" y1=\"809.388\" x2=\"766.166\" y2=\"809.85\" stroke-linecap=\"round\" style=\"stroke:black;stroke-width:3\" /><line x1=\"766.166\" y1=\"809.85\" x2=\"770.09\" y2=\"810.004\" stroke-linecap=\"round\" style=\"stroke:black;stroke-width:3\" /><line x1=\"770.09\" y1=\"810.004\" x2=\"774.016\" y2=\"809.908\" stroke-linecap=\"round\" style=\"stroke:black;stroke-width:3\" /><line x1=\"774.016\" y1=\"809.908\" x2=\"777.932\" y2=\"809.619\" stroke-linecap=\"round\" style=\"stroke:black;stroke-width:3\" /><line x1=\"777.932\" y1=\"809.619\" x2=\"781.829\" y2=\"809.138\" stroke-linecap=\"round\" style=\"stroke:black;stroke-width:3\" /><line x1=\"781.829\" y1=\"809.138\" x2=\"785.698\" y2=\"808.467\" stroke-linecap=\"round\" style=\"stroke:black;stroke-width:3\" /><line x1=\"785.698\" y1=\"808.467\" x2=\"789.53\" y2=\"807.607\" stroke-linecap=\"round\" style=\"stroke:black;stroke-width:3\" /><line x1=\"789.53\" y1=\"807.607\" x2=\"793.315\" y2=\"806.56\" stroke-linecap=\"round\" style=\"stroke:black;stroke-width:3\" /><line x1=\"793.315\" y1=\"806.56\" x2=\"797.044\" y2=\"805.328\" stroke-linecap=\"round\" style=\"stroke:black;stroke-width:3\" /><line x1=\"797.044\" y1=\"805.328\" x2=\"800.708\" y2=\"803.915\" stroke-linecap=\"round\" style=\"stroke:black;stroke-width:3\" /><line x1=\"800.708\" y1=\"803.915\" x2=\"804.298\" y2=\"802.324\" stroke-linecap=\"round\" style=\"stroke:black;stroke-width:3\" /><line x1=\"804.298\" y1=\"802.324\" x2=\"807.806\" y2=\"800.558\" stroke-linecap=\"round\" style=\"stroke:black;stroke-width:3\" /><line x1=\"807.806\" y1=\"800.558\" x2=\"811.223\" y2=\"798.622\" stroke-linecap=\"round\" style=\"stroke:black;stroke-width:3\" /><line x1=\"811.223\" y1=\"798.622\" x2=\"814.541\" y2=\"796.521\" stroke-linecap=\"round\" style=\"stroke:black;stroke-width:3\" /><line x1=\"814.541\" y1=\"796.521\" x2=\"817.752\" y2=\"794.26\" stroke-linecap=\"round\" style=\"stroke:black;stroke-width:3\" /><line x1=\"817.752\" y1=\"794.26\" x2=\"820.848\" y2=\"791.844\" stroke-linecap=\"round\" style=\"stroke:black;stroke-width:3\" /><line x1=\"820.848\" y1=\"791.844\" x2=\"823.822\" y2=\"789.279\" stroke-linecap=\"round\" style=\"stroke:black;stroke-width:3\" /><line x1=\"823.822\" y1=\"789.279\" x2=\"826.666\" y2=\"786.571\" stroke-linecap=\"round\" style=\"stroke:black;stroke-width:3\" /><line x1=\"826.666\" y1=\"786.571\" x2=\"829.374\" y2=\"783.727\" stroke-linecap=\"round\" style=\"stroke:black;stroke-width:3\" /><line x1=\"829.374\" y1=\"783.727\" x2=\"831.939\" y2=\"780.753\" stroke-linecap=\"round\" style=\"stroke:black;stroke-width:3\" /><line x1=\"831.939\" y1=\"780.753\" x2=\"834.355\" y2=\"777.657\" stroke-linecap=\"round\" style=\"stroke:black;stroke-width:3\" /><line x1=\"834.355\" y1=\"777.657\" x2=\"836.616\" y2=\"774.446\" stroke-linecap=\"round\" style=\"stroke:black;stroke-width:3\" /><line x1=\"836.616\" y1=\"774.446\" x2=\"838.717\" y2=\"771.128\" stroke-linecap=\"round\" style=\"stroke:black;stroke-width:3\" /><line x1=\"838.717\" y1=\"771.128\" x2=\"840.653\" y2=\"767.711\" stroke-linecap=\"round\" style=\"stroke:black;stroke-width:3\" /><line x1=\"840.653\" y1=\"767.711\" x2=\"842.419\" y2=\"764.203\" stroke-linecap=\"round\" style=\"stroke:black;stroke-width:3\" /><line x1=\"842.419\" y1=\"764.203\" x2=\"844.01\" y2=\"760.613\" stroke-linecap=\"round\" style=\"stroke:black;stroke-width:3\" /><line x1=\"844.01\" y1=\"760.613\" x2=\"845.423\" y2=\"756.949\" stroke-linecap=\"round\" style=\"stroke:black;stroke-width:3\" /><line x1=\"845.423\" y1=\"756.949\" x2=\"846.655\" y2=\"753.22\" stroke-linecap=\"round\" style=\"stroke:black;stroke-width:3\" /><line x1=\"846.655\" y1=\"753.22\" x2=\"847.702\" y2=\"749.435\" stroke-linecap=\"round\" style=\"stroke:black;stroke-width:3\" /><line x1=\"847.702\" y1=\"749.435\" x2=\"848.562\" y2=\"745.603\" stroke-linecap=\"round\" style=\"stroke:black;stroke-width:3\" /><line x1=\"848.562\" y1=\"745.603\" x2=\"849.233\" y2=\"741.734\" stroke-linecap=\"round\" style=\"stroke:black;stroke-width:3\" /><line x1=\"849.233\" y1=\"741.734\" x2=\"849.714\" y2=\"737.837\" stroke-linecap=\"round\" style=\"stroke:black;stroke-width:3\" /><line x1=\"849.714\" y1=\"737.837\" x2=\"850.003\" y2=\"733.921\" stroke-linecap=\"round\" style=\"stroke:black;stroke-width:3\" /><line x1=\"850.003\" y1=\"733.921\" x2=\"850.099\" y2=\"729.995\" stroke-linecap=\"round\" style=\"stroke:black;stroke-width:3\" /><line x1=\"850.099\" y1=\"729.995\" x2=\"850.04\" y2=\"726.068\" stroke-linecap=\"round\" style=\"stroke:black;stroke-width:3\" /><line x1=\"850.04\" y1=\"726.068\" x2=\"849.862\" y2=\"722.145\" stroke-linecap=\"round\" style=\"stroke:black;stroke-width:3\" /><line x1=\"849.862\" y1=\"722.145\" x2=\"849.566\" y2=\"718.229\" stroke-linecap=\"round\" style=\"stroke:black;stroke-width:3\" /><line x1=\"849.566\" y1=\"718.229\" x2=\"849.152\" y2=\"714.324\" stroke-linecap=\"round\" style=\"stroke:black;stroke-width:3\" /><line x1=\"849.152\" y1=\"714.324\" x2=\"848.62\" y2=\"710.433\" stroke-linecap=\"round\" style=\"stroke:black;stroke-width:3\" /><line x1=\"848.62\" y1=\"710.433\" x2=\"847.971\" y2=\"706.56\" stroke-linecap=\"round\" style=\"stroke:black;stroke-width:3\" /><line x1=\"847.971\" y1=\"706.56\" x2=\"847.205\" y2=\"702.708\" stroke-linecap=\"round\" style=\"stroke:black;stroke-width:3\" /><line x1=\"847.205\" y1=\"702.708\" x2=\"846.323\" y2=\"698.881\" stroke-linecap=\"round\" style=\"stroke:black;stroke-width:3\" /><line x1=\"846.323\" y1=\"698.881\" x2=\"845.326\" y2=\"695.083\" stroke-linecap=\"round\" style=\"stroke:black;stroke-width:3\" /><line x1=\"845.326\" y1=\"695.083\" x2=\"844.214\" y2=\"691.317\" stroke-linecap=\"round\" style=\"stroke:black;stroke-width:3\" /><line x1=\"844.214\" y1=\"691.317\" x2=\"842.989\" y2=\"687.586\" stroke-linecap=\"round\" style=\"stroke:black;stroke-width:3\" /><line x1=\"842.989\" y1=\"687.586\" x2=\"841.652\" y2=\"683.894\" stroke-linecap=\"round\" style=\"stroke:black;stroke-width:3\" /><line x1=\"841.652\" y1=\"683.894\" x2=\"840.204\" y2=\"680.244\" stroke-linecap=\"round\" style=\"stroke:black;stroke-width:3\" /><line x1=\"840.204\" y1=\"680.244\" x2=\"838.647\" y2=\"676.639\" stroke-linecap=\"round\" style=\"stroke:black;stroke-width:3\" /><line x1=\"838.647\" y1=\"676.639\" x2=\"836.981\" y2=\"673.083\" stroke-linecap=\"round\" style=\"stroke:black;stroke-width:3\" /><line x1=\"836.981\" y1=\"673.083\" x2=\"835.209\" y2=\"669.579\" stroke-linecap=\"round\" style=\"stroke:black;stroke-width:3\" /><line x1=\"835.209\" y1=\"669.579\" x2=\"833.332\" y2=\"666.13\" stroke-linecap=\"round\" style=\"stroke:black;stroke-width:3\" /><line x1=\"833.332\" y1=\"666.13\" x2=\"831.351\" y2=\"662.739\" stroke-linecap=\"round\" style=\"stroke:black;stroke-width:3\" /><line x1=\"831.351\" y1=\"662.739\" x2=\"829.269\" y2=\"659.409\" stroke-linecap=\"round\" style=\"stroke:black;stroke-width:3\" /><line x1=\"829.269\" y1=\"659.409\" x2=\"827.087\" y2=\"656.144\" stroke-linecap=\"round\" style=\"stroke:black;stroke-width:3\" /><line x1=\"827.087\" y1=\"656.144\" x2=\"824.808\" y2=\"652.946\" stroke-linecap=\"round\" style=\"stroke:black;stroke-width:3\" /><line x1=\"824.808\" y1=\"652.946\" x2=\"822.433\" y2=\"649.819\" stroke-linecap=\"round\" style=\"stroke:black;stroke-width:3\" /><line x1=\"822.433\" y1=\"649.819\" x2=\"819.965\" y2=\"646.765\" stroke-linecap=\"round\" style=\"stroke:black;stroke-width:3\" /><line x1=\"819.965\" y1=\"646.765\" x2=\"817.406\" y2=\"643.787\" stroke-linecap=\"round\" style=\"stroke:black;stroke-width:3\" /><line x1=\"817.406\" y1=\"643.787\" x2=\"814.758\" y2=\"640.887\" stroke-linecap=\"round\" style=\"stroke:black;stroke-width:3\" /><line x1=\"814.758\" y1=\"640.887\" x2=\"812.023\" y2=\"638.069\" stroke-linecap=\"round\" style=\"stroke:black;stroke-width:3\" /><line x1=\"812.023\" y1=\"638.069\" x2=\"809.205\" y2=\"635.334\" stroke-linecap=\"round\" style=\"stroke:black;stroke-width:3\" /><line x1=\"809.205\" y1=\"635.334\" x2=\"806.305\" y2=\"632.686\" stroke-linecap=\"round\" style=\"stroke:black;stroke-width:3\" /><line x1=\"806.305\" y1=\"632.686\" x2=\"803.327\" y2=\"630.127\" stroke-linecap=\"round\" style=\"stroke:black;stroke-width:3\" /><line x1=\"803.327\" y1=\"630.127\" x2=\"800.273\" y2=\"627.659\" stroke-linecap=\"round\" style=\"stroke:black;stroke-width:3\" /><line x1=\"800.273\" y1=\"627.659\" x2=\"797.146\" y2=\"625.284\" stroke-linecap=\"round\" style=\"stroke:black;stroke-width:3\" /><line x1=\"797.146\" y1=\"625.284\" x2=\"793.948\" y2=\"623.005\" stroke-linecap=\"round\" style=\"stroke:black;stroke-width:3\" /><line x1=\"793.948\" y1=\"623.005\" x2=\"790.683\" y2=\"620.823\" stroke-linecap=\"round\" style=\"stroke:black;stroke-width:3\" /><line x1=\"790.683\" y1=\"620.823\" x2=\"787.353\" y2=\"618.741\" stroke-linecap=\"round\" style=\"stroke:black;stroke-width:3\" /><line x1=\"787.353\" y1=\"618.741\" x2=\"783.962\" y2=\"616.76\" stroke-linecap=\"round\" style=\"stroke:black;stroke-width:3\" /><line x1=\"783.962\" y1=\"616.76\" x2=\"780.513\" y2=\"614.883\" stroke-linecap=\"round\" style=\"stroke:black;stroke-width:3\" /><line x1=\"780.513\" y1=\"614.883\" x2=\"777.009\" y2=\"613.111\" stroke-linecap=\"round\" style=\"stroke:black;stroke-width:3\" /><line x1=\"777.009\" y1=\"613.111\" x2=\"773.453\" y2=\"611.445\" stroke-linecap=\"round\" style=\"stroke:black;stroke-width:3\" /><line x1=\"773.453\" y1=\"611.445\" x2=\"769.848\" y2=\"609.888\" stroke-linecap=\"round\" style=\"stroke:black;stroke-width:3\" /><line x1=\"769.848\" y1=\"609.888\" x2=\"766.198\" y2=\"608.44\" stroke-linecap=\"round\" style=\"stroke:black;stroke-width:3\" /><line x1=\"766.198\" y1=\"608.44\" x2=\"762.506\" y2=\"607.103\" stroke-linecap=\"round\" style=\"stroke:black;stroke-width:3\" /><line x1=\"762.506\" y1=\"607.103\" x2=\"758.775\" y2=\"605.878\" stroke-linecap=\"round\" style=\"stroke:black;stroke-width:3\" /><line x1=\"758.775\" y1=\"605.878\" x2=\"755.009\" y2=\"604.766\" stroke-linecap=\"round\" style=\"stroke:black;stroke-width:3\" /><line x1=\"755.009\" y1=\"604.766\" x2=\"751.211\" y2=\"603.769\" stroke-linecap=\"round\" style=\"stroke:black;stroke-width:3\" /><line x1=\"751.211\" y1=\"603.769\" x2=\"747.384\" y2=\"602.887\" stroke-linecap=\"round\" style=\"stroke:black;stroke-width:3\" /><line x1=\"747.384\" y1=\"602.887\" x2=\"743.532\" y2=\"602.121\" stroke-linecap=\"round\" style=\"stroke:black;stroke-width:3\" /><line x1=\"743.532\" y1=\"602.121\" x2=\"739.659\" y2=\"601.472\" stroke-linecap=\"round\" style=\"stroke:black;stroke-width:3\" /><line x1=\"739.659\" y1=\"601.472\" x2=\"735.768\" y2=\"600.94\" stroke-linecap=\"round\" style=\"stroke:black;stroke-width:3\" /><line x1=\"735.768\" y1=\"600.94\" x2=\"731.863\" y2=\"600.526\" stroke-linecap=\"round\" style=\"stroke:black;stroke-width:3\" /><line x1=\"731.863\" y1=\"600.526\" x2=\"727.947\" y2=\"600.23\" stroke-linecap=\"round\" style=\"stroke:black;stroke-width:3\" /><line x1=\"727.947\" y1=\"600.23\" x2=\"724.024\" y2=\"600.052\" stroke-linecap=\"round\" style=\"stroke:black;stroke-width:3\" /><line x1=\"724.024\" y1=\"600.052\" x2=\"720.097\" y2=\"599.993\" stroke-linecap=\"round\" style=\"stroke:black;stroke-width:3\" /><line x1=\"720.097\" y1=\"599.993\" x2=\"716.123\" y2=\"600.031\" stroke-linecap=\"round\" style=\"stroke:black;stroke-width:3\" /><line x1=\"716.123\" y1=\"600.031\" x2=\"712.15\" y2=\"600.144\" stroke-linecap=\"round\" style=\"stroke:black;stroke-width:3\" /><line x1=\"712.15\" y1=\"600.144\" x2=\"708.18\" y2=\"600.332\" stroke-linecap=\"round\" style=\"stroke:black;stroke-width:3\" /><line x1=\"708.18\" y1=\"600.332\" x2=\"704.214\" y2=\"600.595\" stroke-linecap=\"round\" style=\"stroke:black;stroke-width:3\" /><line x1=\"704.214\" y1=\"600.595\" x2=\"700.254\" y2=\"600.933\" stroke-linecap=\"round\" style=\"stroke:black;stroke-width:3\" /><line x1=\"700.254\" y1=\"600.933\" x2=\"696.301\" y2=\"601.346\" stroke-linecap=\"round\" style=\"stroke:black;stroke-width:3\" /><line x1=\"696.301\" y1=\"601.346\" x2=\"692.357\" y2=\"601.834\" stroke-linecap=\"round\" style=\"stroke:black;stroke-width:3\" /><line x1=\"692.357\" y1=\"601.834\" x2=\"688.423\" y2=\"602.396\" stroke-linecap=\"round\" style=\"stroke:black;stroke-width:3\" /><line x1=\"688.423\" y1=\"602.396\" x2=\"684.5\" y2=\"603.033\" stroke-linecap=\"round\" style=\"stroke:black;stroke-width:3\" /><line x1=\"684.5\" y1=\"603.033\" x2=\"680.59\" y2=\"603.744\" stroke-linecap=\"round\" style=\"stroke:black;stroke-width:3\" /><line x1=\"680.59\" y1=\"603.744\" x2=\"676.694\" y2=\"604.529\" stroke-linecap=\"round\" style=\"stroke:black;stroke-width:3\" /><line x1=\"676.694\" y1=\"604.529\" x2=\"672.813\" y2=\"605.387\" stroke-linecap=\"round\" style=\"stroke:black;stroke-width:3\" /><line x1=\"672.813\" y1=\"605.387\" x2=\"668.949\" y2=\"606.318\" stroke-linecap=\"round\" style=\"stroke:black;stroke-width:3\" /><line x1=\"668.949\" y1=\"606.318\" x2=\"665.104\" y2=\"607.322\" stroke-linecap=\"round\" style=\"stroke:black;stroke-width:3\" /><line x1=\"665.104\" y1=\"607.322\" x2=\"661.278\" y2=\"608.399\" stroke-linecap=\"round\" style=\"stroke:black;stroke-width:3\" /><line x1=\"661.278\" y1=\"608.399\" x2=\"657.473\" y2=\"609.548\" stroke-linecap=\"round\" style=\"stroke:black;stroke-width:3\" /><line x1=\"657.473\" y1=\"609.548\" x2=\"653.691\" y2=\"610.769\" stroke-linecap=\"round\" style=\"stroke:black;stroke-width:3\" /><line x1=\"653.691\" y1=\"610.769\" x2=\"649.933\" y2=\"612.061\" stroke-linecap=\"round\" style=\"stroke:black;stroke-width:3\" /><line x1=\"649.933\" y1=\"612.061\" x2=\"646.2\" y2=\"613.424\" stroke-linecap=\"round\" style=\"stroke:black;stroke-width:3\" /><line x1=\"646.2\" y1=\"613.424\" x2=\"642.493\" y2=\"614.858\" stroke-linecap=\"round\" style=\"stroke:black;stroke-width:3\" /><line x1=\"642.493\" y1=\"614.858\" x2=\"638.814\" y2=\"616.362\" stroke-linecap=\"round\" style=\"stroke:black;stroke-width:3\" /><line x1=\"638.814\" y1=\"616.362\" x2=\"635.164\" y2=\"617.935\" stroke-linecap=\"round\" style=\"stroke:black;stroke-width:3\" /><line x1=\"635.164\" y1=\"617.935\" x2=\"631.545\" y2=\"619.577\" stroke-linecap=\"round\" style=\"stroke:black;stroke-width:3\" /><line x1=\"631.545\" y1=\"619.577\" x2=\"627.957\" y2=\"621.287\" stroke-linecap=\"round\" style=\"stroke:black;stroke-width:3\" /><line x1=\"627.957\" y1=\"621.287\" x2=\"624.402\" y2=\"623.064\" stroke-linecap=\"round\" style=\"stroke:black;stroke-width:3\" /><line x1=\"624.402\" y1=\"623.064\" x2=\"620.882\" y2=\"624.908\" stroke-linecap=\"round\" style=\"stroke:black;stroke-width:3\" /><line x1=\"620.882\" y1=\"624.908\" x2=\"617.397\" y2=\"626.819\" stroke-linecap=\"round\" style=\"stroke:black;stroke-width:3\" /><line x1=\"617.397\" y1=\"626.819\" x2=\"613.949\" y2=\"628.795\" stroke-linecap=\"round\" style=\"stroke:black;stroke-width:3\" /><line x1=\"613.949\" y1=\"628.795\" x2=\"610.539\" y2=\"630.836\" stroke-linecap=\"round\" style=\"stroke:black;stroke-width:3\" /><line x1=\"610.539\" y1=\"630.836\" x2=\"607.168\" y2=\"632.941\" stroke-linecap=\"round\" style=\"stroke:black;stroke-width:3\" /><line x1=\"607.168\" y1=\"632.941\" x2=\"603.838\" y2=\"635.11\" stroke-linecap=\"round\" style=\"stroke:black;stroke-width:3\" /><line x1=\"603.838\" y1=\"635.11\" x2=\"600.549\" y2=\"637.341\" stroke-linecap=\"round\" style=\"stroke:black;stroke-width:3\" /><line x1=\"600.549\" y1=\"637.341\" x2=\"597.303\" y2=\"639.634\" stroke-linecap=\"round\" style=\"stroke:black;stroke-width:3\" /><line x1=\"597.303\" y1=\"639.634\" x2=\"594.101\" y2=\"641.988\" stroke-linecap=\"round\" style=\"stroke:black;stroke-width:3\" /><line x1=\"594.101\" y1=\"641.988\" x2=\"590.944\" y2=\"644.402\" stroke-linecap=\"round\" style=\"stroke:black;stroke-width:3\" /><line x1=\"590.944\" y1=\"644.402\" x2=\"587.833\" y2=\"646.876\" stroke-linecap=\"round\" style=\"stroke:black;stroke-width:3\" /><line x1=\"587.833\" y1=\"646.876\" x2=\"584.77\" y2=\"649.408\" stroke-linecap=\"round\" style=\"stroke:black;stroke-width:3\" /><line x1=\"584.77\" y1=\"649.408\" x2=\"581.755\" y2=\"651.998\" stroke-linecap=\"round\" style=\"stroke:black;stroke-width:3\" /><line x1=\"581.755\" y1=\"651.998\" x2=\"578.79\" y2=\"654.644\" stroke-linecap=\"round\" style=\"stroke:black;stroke-width:3\" /><line x1=\"578.79\" y1=\"654.644\" x2=\"575.875\" y2=\"657.346\" stroke-linecap=\"round\" style=\"stroke:black;stroke-width:3\" /><line x1=\"575.875\" y1=\"657.346\" x2=\"573.012\" y2=\"660.103\" stroke-linecap=\"round\" style=\"stroke:black;stroke-width:3\" /><line x1=\"573.012\" y1=\"660.103\" x2=\"570.202\" y2=\"662.913\" stroke-linecap=\"round\" style=\"stroke:black;stroke-width:3\" /><line x1=\"570.202\" y1=\"662.913\" x2=\"567.445\" y2=\"665.776\" stroke-linecap=\"round\" style=\"stroke:black;stroke-width:3\" /><line x1=\"567.445\" y1=\"665.776\" x2=\"564.743\" y2=\"668.691\" stroke-linecap=\"round\" style=\"stroke:black;stroke-width:3\" /><line x1=\"564.743\" y1=\"668.691\" x2=\"562.097\" y2=\"671.656\" stroke-linecap=\"round\" style=\"stroke:black;stroke-width:3\" /><line x1=\"562.097\" y1=\"671.656\" x2=\"559.507\" y2=\"674.671\" stroke-linecap=\"round\" style=\"stroke:black;stroke-width:3\" /><line x1=\"559.507\" y1=\"674.671\" x2=\"556.975\" y2=\"677.734\" stroke-linecap=\"round\" style=\"stroke:black;stroke-width:3\" /><line x1=\"556.975\" y1=\"677.734\" x2=\"554.501\" y2=\"680.845\" stroke-linecap=\"round\" style=\"stroke:black;stroke-width:3\" /><line x1=\"554.501\" y1=\"680.845\" x2=\"552.087\" y2=\"684.002\" stroke-linecap=\"round\" style=\"stroke:black;stroke-width:3\" /><line x1=\"552.087\" y1=\"684.002\" x2=\"549.733\" y2=\"687.204\" stroke-linecap=\"round\" style=\"stroke:black;stroke-width:3\" /><line x1=\"549.733\" y1=\"687.204\" x2=\"547.44\" y2=\"690.45\" stroke-linecap=\"round\" style=\"stroke:black;stroke-width:3\" /><line x1=\"547.44\" y1=\"690.45\" x2=\"545.209\" y2=\"693.739\" stroke-linecap=\"round\" style=\"stroke:black;stroke-width:3\" /><line x1=\"545.209\" y1=\"693.739\" x2=\"543.04\" y2=\"697.069\" stroke-linecap=\"round\" style=\"stroke:black;stroke-width:3\" /><line x1=\"543.04\" y1=\"697.069\" x2=\"540.935\" y2=\"700.44\" stroke-linecap=\"round\" style=\"stroke:black;stroke-width:3\" /><line x1=\"540.935\" y1=\"700.44\" x2=\"538.894\" y2=\"703.85\" stroke-linecap=\"round\" style=\"stroke:black;stroke-width:3\" /><line x1=\"538.894\" y1=\"703.85\" x2=\"536.918\" y2=\"707.298\" stroke-linecap=\"round\" style=\"stroke:black;stroke-width:3\" /><line x1=\"536.918\" y1=\"707.298\" x2=\"535.007\" y2=\"710.783\" stroke-linecap=\"round\" style=\"stroke:black;stroke-width:3\" /><line x1=\"535.007\" y1=\"710.783\" x2=\"533.163\" y2=\"714.303\" stroke-linecap=\"round\" style=\"stroke:black;stroke-width:3\" /><line x1=\"533.163\" y1=\"714.303\" x2=\"531.386\" y2=\"717.858\" stroke-linecap=\"round\" style=\"stroke:black;stroke-width:3\" /><line x1=\"531.386\" y1=\"717.858\" x2=\"529.676\" y2=\"721.446\" stroke-linecap=\"round\" style=\"stroke:black;stroke-width:3\" /><line x1=\"529.676\" y1=\"721.446\" x2=\"528.034\" y2=\"725.065\" stroke-linecap=\"round\" style=\"stroke:black;stroke-width:3\" /><line x1=\"528.034\" y1=\"725.065\" x2=\"526.461\" y2=\"728.715\" stroke-linecap=\"round\" style=\"stroke:black;stroke-width:3\" /><line x1=\"526.461\" y1=\"728.715\" x2=\"524.957\" y2=\"732.394\" stroke-linecap=\"round\" style=\"stroke:black;stroke-width:3\" /><line x1=\"524.957\" y1=\"732.394\" x2=\"523.523\" y2=\"736.101\" stroke-linecap=\"round\" style=\"stroke:black;stroke-width:3\" /><line x1=\"523.523\" y1=\"736.101\" x2=\"522.16\" y2=\"739.834\" stroke-linecap=\"round\" style=\"stroke:black;stroke-width:3\" /><line x1=\"522.16\" y1=\"739.834\" x2=\"520.868\" y2=\"743.592\" stroke-linecap=\"round\" style=\"stroke:black;stroke-width:3\" /><line x1=\"520.868\" y1=\"743.592\" x2=\"519.647\" y2=\"747.374\" stroke-linecap=\"round\" style=\"stroke:black;stroke-width:3\" /><line x1=\"519.647\" y1=\"747.374\" x2=\"518.498\" y2=\"751.179\" stroke-linecap=\"round\" style=\"stroke:black;stroke-width:3\" /><line x1=\"518.498\" y1=\"751.179\" x2=\"517.421\" y2=\"755.005\" stroke-linecap=\"round\" style=\"stroke:black;stroke-width:3\" /><line x1=\"517.421\" y1=\"755.005\" x2=\"516.417\" y2=\"758.85\" stroke-linecap=\"round\" style=\"stroke:black;stroke-width:3\" /><line x1=\"516.417\" y1=\"758.85\" x2=\"515.486\" y2=\"762.714\" stroke-linecap=\"round\" style=\"stroke:black;stroke-width:3\" /><line x1=\"515.486\" y1=\"762.714\" x2=\"514.628\" y2=\"766.595\" stroke-linecap=\"round\" style=\"stroke:black;stroke-width:3\" /><line x1=\"514.628\" y1=\"766.595\" x2=\"513.843\" y2=\"770.491\" stroke-linecap=\"round\" style=\"stroke:black;stroke-width:3\" /><line x1=\"513.843\" y1=\"770.491\" x2=\"513.132\" y2=\"774.401\" stroke-linecap=\"round\" style=\"stroke:black;stroke-width:3\" /><line x1=\"513.132\" y1=\"774.401\" x2=\"512.495\" y2=\"778.324\" stroke-linecap=\"round\" style=\"stroke:black;stroke-width:3\" /><line x1=\"512.495\" y1=\"778.324\" x2=\"511.933\" y2=\"782.258\" stroke-linecap=\"round\" style=\"stroke:black;stroke-width:3\" /><line x1=\"511.933\" y1=\"782.258\" x2=\"511.445\" y2=\"786.202\" stroke-linecap=\"round\" style=\"stroke:black;stroke-width:3\" /><line x1=\"511.445\" y1=\"786.202\" x2=\"511.032\" y2=\"790.155\" stroke-linecap=\"round\" style=\"stroke:black;stroke-width:3\" /><line x1=\"511.032\" y1=\"790.155\" x2=\"510.694\" y2=\"794.115\" stroke-linecap=\"round\" style=\"stroke:black;stroke-width:3\" /><line x1=\"510.694\" y1=\"794.115\" x2=\"510.431\" y2=\"798.081\" stroke-linecap=\"round\" style=\"stroke:black;stroke-width:3\" /><line x1=\"510.431\" y1=\"798.081\" x2=\"510.243\" y2=\"802.051\" stroke-linecap=\"round\" style=\"stroke:black;stroke-width:3\" /><line x1=\"510.243\" y1=\"802.051\" x2=\"510.13\" y2=\"806.024\" stroke-linecap=\"round\" style=\"stroke:black;stroke-width:3\" /><line x1=\"510.13\" y1=\"806.024\" x2=\"510.092\" y2=\"809.998\" stroke-linecap=\"round\" style=\"stroke:black;stroke-width:3\" /><line x1=\"510.092\" y1=\"809.998\" x2=\"510.115\" y2=\"813.984\" stroke-linecap=\"round\" style=\"stroke:black;stroke-width:3\" /><line x1=\"510.115\" y1=\"813.984\" x2=\"510.185\" y2=\"817.969\" stroke-linecap=\"round\" style=\"stroke:black;stroke-width:3\" /><line x1=\"510.185\" y1=\"817.969\" x2=\"510.302\" y2=\"821.953\" stroke-linecap=\"round\" style=\"stroke:black;stroke-width:3\" /><line x1=\"510.302\" y1=\"821.953\" x2=\"510.465\" y2=\"825.935\" stroke-linecap=\"round\" style=\"stroke:black;stroke-width:3\" /><line x1=\"510.465\" y1=\"825.935\" x2=\"510.675\" y2=\"829.915\" stroke-linecap=\"round\" style=\"stroke:black;stroke-width:3\" /><line x1=\"510.675\" y1=\"829.915\" x2=\"510.932\" y2=\"833.892\" stroke-linecap=\"round\" style=\"stroke:black;stroke-width:3\" /><line x1=\"510.932\" y1=\"833.892\" x2=\"511.235\" y2=\"837.866\" stroke-linecap=\"round\" style=\"stroke:black;stroke-width:3\" /><line x1=\"511.235\" y1=\"837.866\" x2=\"511.585\" y2=\"841.836\" stroke-linecap=\"round\" style=\"stroke:black;stroke-width:3\" /><line x1=\"511.585\" y1=\"841.836\" x2=\"511.981\" y2=\"845.802\" stroke-linecap=\"round\" style=\"stroke:black;stroke-width:3\" /><line x1=\"511.981\" y1=\"845.802\" x2=\"512.424\" y2=\"849.763\" stroke-linecap=\"round\" style=\"stroke:black;stroke-width:3\" /><line x1=\"512.424\" y1=\"849.763\" x2=\"512.913\" y2=\"853.718\" stroke-linecap=\"round\" style=\"stroke:black;stroke-width:3\" /><line x1=\"512.913\" y1=\"853.718\" x2=\"513.449\" y2=\"857.667\" stroke-linecap=\"round\" style=\"stroke:black;stroke-width:3\" /><line x1=\"513.449\" y1=\"857.667\" x2=\"514.031\" y2=\"861.61\" stroke-linecap=\"round\" style=\"stroke:black;stroke-width:3\" /><line x1=\"514.031\" y1=\"861.61\" x2=\"514.659\" y2=\"865.546\" stroke-linecap=\"round\" style=\"stroke:black;stroke-width:3\" /><line x1=\"514.659\" y1=\"865.546\" x2=\"515.333\" y2=\"869.474\" stroke-linecap=\"round\" style=\"stroke:black;stroke-width:3\" /><line x1=\"515.333\" y1=\"869.474\" x2=\"516.053\" y2=\"873.394\" stroke-linecap=\"round\" style=\"stroke:black;stroke-width:3\" /><line x1=\"516.053\" y1=\"873.394\" x2=\"516.819\" y2=\"877.305\" stroke-linecap=\"round\" style=\"stroke:black;stroke-width:3\" /><line x1=\"516.819\" y1=\"877.305\" x2=\"517.631\" y2=\"881.207\" stroke-linecap=\"round\" style=\"stroke:black;stroke-width:3\" /><line x1=\"517.631\" y1=\"881.207\" x2=\"518.489\" y2=\"885.099\" stroke-linecap=\"round\" style=\"stroke:black;stroke-width:3\" /><line x1=\"518.489\" y1=\"885.099\" x2=\"519.392\" y2=\"888.981\" stroke-linecap=\"round\" style=\"stroke:black;stroke-width:3\" /><line x1=\"519.392\" y1=\"888.981\" x2=\"520.341\" y2=\"892.852\" stroke-linecap=\"round\" style=\"stroke:black;stroke-width:3\" /><line x1=\"520.341\" y1=\"892.852\" x2=\"521.335\" y2=\"896.712\" stroke-linecap=\"round\" style=\"stroke:black;stroke-width:3\" /><line x1=\"521.335\" y1=\"896.712\" x2=\"522.374\" y2=\"900.56\" stroke-linecap=\"round\" style=\"stroke:black;stroke-width:3\" /><line x1=\"522.374\" y1=\"900.56\" x2=\"523.458\" y2=\"904.395\" stroke-linecap=\"round\" style=\"stroke:black;stroke-width:3\" /><line x1=\"523.458\" y1=\"904.395\" x2=\"524.587\" y2=\"908.217\" stroke-linecap=\"round\" style=\"stroke:black;stroke-width:3\" /><line x1=\"524.587\" y1=\"908.217\" x2=\"525.761\" y2=\"912.026\" stroke-linecap=\"round\" style=\"stroke:black;stroke-width:3\" /><line x1=\"525.761\" y1=\"912.026\" x2=\"526.979\" y2=\"915.821\" stroke-linecap=\"round\" style=\"stroke:black;stroke-width:3\" /><line x1=\"526.979\" y1=\"915.821\" x2=\"528.242\" y2=\"919.601\" stroke-linecap=\"round\" style=\"stroke:black;stroke-width:3\" /><line x1=\"528.242\" y1=\"919.601\" x2=\"529.549\" y2=\"923.366\" stroke-linecap=\"round\" style=\"stroke:black;stroke-width:3\" /><line x1=\"529.549\" y1=\"923.366\" x2=\"530.9\" y2=\"927.116\" stroke-linecap=\"round\" style=\"stroke:black;stroke-width:3\" /><line x1=\"530.9\" y1=\"927.116\" x2=\"532.295\" y2=\"930.85\" stroke-linecap=\"round\" style=\"stroke:black;stroke-width:3\" /><line x1=\"532.295\" y1=\"930.85\" x2=\"533.733\" y2=\"934.567\" stroke-linecap=\"round\" style=\"stroke:black;stroke-width:3\" /><line x1=\"533.733\" y1=\"934.567\" x2=\"535.215\" y2=\"938.267\" stroke-linecap=\"round\" style=\"stroke:black;stroke-width:3\" /><line x1=\"535.215\" y1=\"938.267\" x2=\"536.74\" y2=\"941.949\" stroke-linecap=\"round\" style=\"stroke:black;stroke-width:3\" /><line x1=\"536.74\" y1=\"941.949\" x2=\"538.308\" y2=\"945.613\" stroke-linecap=\"round\" style=\"stroke:black;stroke-width:3\" /><line x1=\"538.308\" y1=\"945.613\" x2=\"539.919\" y2=\"949.258\" stroke-linecap=\"round\" style=\"stroke:black;stroke-width:3\" /><line x1=\"539.919\" y1=\"949.258\" x2=\"541.573\" y2=\"952.884\" stroke-linecap=\"round\" style=\"stroke:black;stroke-width:3\" /><line x1=\"541.573\" y1=\"952.884\" x2=\"543.269\" y2=\"956.491\" stroke-linecap=\"round\" style=\"stroke:black;stroke-width:3\" /><line x1=\"543.269\" y1=\"956.491\" x2=\"545.007\" y2=\"960.078\" stroke-linecap=\"round\" style=\"stroke:black;stroke-width:3\" /><line x1=\"545.007\" y1=\"960.078\" x2=\"546.787\" y2=\"963.644\" stroke-linecap=\"round\" style=\"stroke:black;stroke-width:3\" /><line x1=\"546.787\" y1=\"963.644\" x2=\"548.609\" y2=\"967.189\" stroke-linecap=\"round\" style=\"stroke:black;stroke-width:3\" /><line x1=\"548.609\" y1=\"967.189\" x2=\"550.472\" y2=\"970.712\" stroke-linecap=\"round\" style=\"stroke:black;stroke-width:3\" /><line x1=\"550.472\" y1=\"970.712\" x2=\"552.377\" y2=\"974.213\" stroke-linecap=\"round\" style=\"stroke:black;stroke-width:3\" /><line x1=\"552.377\" y1=\"974.213\" x2=\"554.322\" y2=\"977.692\" stroke-linecap=\"round\" style=\"stroke:black;stroke-width:3\" /><line x1=\"554.322\" y1=\"977.692\" x2=\"556.308\" y2=\"981.148\" stroke-linecap=\"round\" style=\"stroke:black;stroke-width:3\" /><line x1=\"556.308\" y1=\"981.148\" x2=\"558.334\" y2=\"984.58\" stroke-linecap=\"round\" style=\"stroke:black;stroke-width:3\" /><line x1=\"558.334\" y1=\"984.58\" x2=\"560.401\" y2=\"987.988\" stroke-linecap=\"round\" style=\"stroke:black;stroke-width:3\" /><line x1=\"560.401\" y1=\"987.988\" x2=\"562.507\" y2=\"991.372\" stroke-linecap=\"round\" style=\"stroke:black;stroke-width:3\" /><line x1=\"562.507\" y1=\"991.372\" x2=\"564.653\" y2=\"994.731\" stroke-linecap=\"round\" style=\"stroke:black;stroke-width:3\" /><line x1=\"564.653\" y1=\"994.731\" x2=\"566.838\" y2=\"998.064\" stroke-linecap=\"round\" style=\"stroke:black;stroke-width:3\" /><line x1=\"566.838\" y1=\"998.064\" x2=\"569.062\" y2=\"1001.371\" stroke-linecap=\"round\" style=\"stroke:black;stroke-width:3\" /><line x1=\"569.062\" y1=\"1001.371\" x2=\"571.325\" y2=\"1004.652\" stroke-linecap=\"round\" style=\"stroke:black;stroke-width:3\" /><line x1=\"571.325\" y1=\"1004.652\" x2=\"573.626\" y2=\"1007.906\" stroke-linecap=\"round\" style=\"stroke:black;stroke-width:3\" /><line x1=\"573.626\" y1=\"1007.906\" x2=\"575.965\" y2=\"1011.133\" stroke-linecap=\"round\" style=\"stroke:black;stroke-width:3\" /><line x1=\"575.965\" y1=\"1011.133\" x2=\"578.342\" y2=\"1014.333\" stroke-linecap=\"round\" style=\"stroke:black;stroke-width:3\" /><line x1=\"578.342\" y1=\"1014.333\" x2=\"580.756\" y2=\"1017.504\" stroke-linecap=\"round\" style=\"stroke:black;stroke-width:3\" /><line x1=\"580.756\" y1=\"1017.504\" x2=\"583.207\" y2=\"1020.647\" stroke-linecap=\"round\" style=\"stroke:black;stroke-width:3\" /><line x1=\"583.207\" y1=\"1020.647\" x2=\"585.695\" y2=\"1023.761\" stroke-linecap=\"round\" style=\"stroke:black;stroke-width:3\" /><line x1=\"585.695\" y1=\"1023.761\" x2=\"588.219\" y2=\"1026.846\" stroke-linecap=\"round\" style=\"stroke:black;stroke-width:3\" /><line x1=\"588.219\" y1=\"1026.846\" x2=\"590.779\" y2=\"1029.901\" stroke-linecap=\"round\" style=\"stroke:black;stroke-width:3\" /><line x1=\"590.779\" y1=\"1029.901\" x2=\"593.375\" y2=\"1032.926\" stroke-linecap=\"round\" style=\"stroke:black;stroke-width:3\" /><line x1=\"593.375\" y1=\"1032.926\" x2=\"596.006\" y2=\"1035.92\" stroke-linecap=\"round\" style=\"stroke:black;stroke-width:3\" /><line x1=\"596.006\" y1=\"1035.92\" x2=\"598.672\" y2=\"1038.883\" stroke-linecap=\"round\" style=\"stroke:black;stroke-width:3\" /><line x1=\"598.672\" y1=\"1038.883\" x2=\"601.372\" y2=\"1041.814\" stroke-linecap=\"round\" style=\"stroke:black;stroke-width:3\" /><line x1=\"601.372\" y1=\"1041.814\" x2=\"604.106\" y2=\"1044.714\" stroke-linecap=\"round\" style=\"stroke:black;stroke-width:3\" /><line x1=\"604.106\" y1=\"1044.714\" x2=\"606.874\" y2=\"1047.581\" stroke-linecap=\"round\" style=\"stroke:black;stroke-width:3\" /><line x1=\"606.874\" y1=\"1047.581\" x2=\"609.676\" y2=\"1050.416\" stroke-linecap=\"round\" style=\"stroke:black;stroke-width:3\" /><line x1=\"609.676\" y1=\"1050.416\" x2=\"612.511\" y2=\"1053.218\" stroke-linecap=\"round\" style=\"stroke:black;stroke-width:3\" /><line x1=\"612.511\" y1=\"1053.218\" x2=\"615.378\" y2=\"1055.986\" stroke-linecap=\"round\" style=\"stroke:black;stroke-width:3\" /><line x1=\"615.378\" y1=\"1055.986\" x2=\"618.278\" y2=\"1058.72\" stroke-linecap=\"round\" style=\"stroke:black;stroke-width:3\" /><line x1=\"618.278\" y1=\"1058.72\" x2=\"621.209\" y2=\"1061.42\" stroke-linecap=\"round\" style=\"stroke:black;stroke-width:3\" /><line x1=\"621.209\" y1=\"1061.42\" x2=\"624.172\" y2=\"1064.086\" stroke-linecap=\"round\" style=\"stroke:black;stroke-width:3\" /><line x1=\"624.172\" y1=\"1064.086\" x2=\"627.166\" y2=\"1066.717\" stroke-linecap=\"round\" style=\"stroke:black;stroke-width:3\" /><line x1=\"627.166\" y1=\"1066.717\" x2=\"630.191\" y2=\"1069.313\" stroke-linecap=\"round\" style=\"stroke:black;stroke-width:3\" /><line x1=\"630.191\" y1=\"1069.313\" x2=\"633.246\" y2=\"1071.873\" stroke-linecap=\"round\" style=\"stroke:black;stroke-width:3\" /><line x1=\"633.246\" y1=\"1071.873\" x2=\"636.331\" y2=\"1074.397\" stroke-linecap=\"round\" style=\"stroke:black;stroke-width:3\" /><line x1=\"636.331\" y1=\"1074.397\" x2=\"639.445\" y2=\"1076.885\" stroke-linecap=\"round\" style=\"stroke:black;stroke-width:3\" /><line x1=\"639.445\" y1=\"1076.885\" x2=\"642.588\" y2=\"1079.336\" stroke-linecap=\"round\" style=\"stroke:black;stroke-width:3\" /><line x1=\"642.588\" y1=\"1079.336\" x2=\"645.759\" y2=\"1081.75\" stroke-linecap=\"round\" style=\"stroke:black;stroke-width:3\" /><line x1=\"645.759\" y1=\"1081.75\" x2=\"648.959\" y2=\"1084.127\" stroke-linecap=\"round\" style=\"stroke:black;stroke-width:3\" /><line x1=\"648.959\" y1=\"1084.127\" x2=\"652.186\" y2=\"1086.466\" stroke-linecap=\"round\" style=\"stroke:black;stroke-width:3\" /><line x1=\"652.186\" y1=\"1086.466\" x2=\"655.44\" y2=\"1088.767\" stroke-linecap=\"round\" style=\"stroke:black;stroke-width:3\" /><line x1=\"655.44\" y1=\"1088.767\" x2=\"658.721\" y2=\"1091.03\" stroke-linecap=\"round\" style=\"stroke:black;stroke-width:3\" /><line x1=\"658.721\" y1=\"1091.03\" x2=\"662.028\" y2=\"1093.254\" stroke-linecap=\"round\" style=\"stroke:black;stroke-width:3\" /><line x1=\"662.028\" y1=\"1093.254\" x2=\"665.361\" y2=\"1095.439\" stroke-linecap=\"round\" style=\"stroke:black;stroke-width:3\" /><line x1=\"665.361\" y1=\"1095.439\" x2=\"668.72\" y2=\"1097.585\" stroke-linecap=\"round\" style=\"stroke:black;stroke-width:3\" /><line x1=\"668.72\" y1=\"1097.585\" x2=\"672.104\" y2=\"1099.691\" stroke-linecap=\"round\" style=\"stroke:black;stroke-width:3\" /><line x1=\"672.104\" y1=\"1099.691\" x2=\"675.512\" y2=\"1101.758\" stroke-linecap=\"round\" style=\"stroke:black;stroke-width:3\" /><line x1=\"675.512\" y1=\"1101.758\" x2=\"678.944\" y2=\"1103.784\" stroke-linecap=\"round\" style=\"stroke:black;stroke-width:3\" /><line x1=\"678.944\" y1=\"1103.784\" x2=\"682.4\" y2=\"1105.77\" stroke-linecap=\"round\" style=\"stroke:black;stroke-width:3\" /><line x1=\"682.4\" y1=\"1105.77\" x2=\"685.879\" y2=\"1107.715\" stroke-linecap=\"round\" style=\"stroke:black;stroke-width:3\" /><line x1=\"685.879\" y1=\"1107.715\" x2=\"689.38\" y2=\"1109.62\" stroke-linecap=\"round\" style=\"stroke:black;stroke-width:3\" /><line x1=\"689.38\" y1=\"1109.62\" x2=\"692.903\" y2=\"1111.483\" stroke-linecap=\"round\" style=\"stroke:black;stroke-width:3\" /><line x1=\"692.903\" y1=\"1111.483\" x2=\"696.448\" y2=\"1113.305\" stroke-linecap=\"round\" style=\"stroke:black;stroke-width:3\" /><line x1=\"696.448\" y1=\"1113.305\" x2=\"700.014\" y2=\"1115.085\" stroke-linecap=\"round\" style=\"stroke:black;stroke-width:3\" /><line x1=\"700.014\" y1=\"1115.085\" x2=\"703.601\" y2=\"1116.823\" stroke-linecap=\"round\" style=\"stroke:black;stroke-width:3\" /><line x1=\"703.601\" y1=\"1116.823\" x2=\"707.208\" y2=\"1118.519\" stroke-linecap=\"round\" style=\"stroke:black;stroke-width:3\" /><line x1=\"707.208\" y1=\"1118.519\" x2=\"710.834\" y2=\"1120.173\" stroke-linecap=\"round\" style=\"stroke:black;stroke-width:3\" /><line x1=\"710.834\" y1=\"1120.173\" x2=\"714.479\" y2=\"1121.784\" stroke-linecap=\"round\" style=\"stroke:black;stroke-width:3\" /><line x1=\"714.479\" y1=\"1121.784\" x2=\"718.143\" y2=\"1123.352\" stroke-linecap=\"round\" style=\"stroke:black;stroke-width:3\" /><line x1=\"718.143\" y1=\"1123.352\" x2=\"721.825\" y2=\"1124.877\" stroke-linecap=\"round\" style=\"stroke:black;stroke-width:3\" /><line x1=\"721.825\" y1=\"1124.877\" x2=\"725.525\" y2=\"1126.359\" stroke-linecap=\"round\" style=\"stroke:black;stroke-width:3\" /><line x1=\"725.525\" y1=\"1126.359\" x2=\"729.242\" y2=\"1127.797\" stroke-linecap=\"round\" style=\"stroke:black;stroke-width:3\" /><line x1=\"729.242\" y1=\"1127.797\" x2=\"732.976\" y2=\"1129.192\" stroke-linecap=\"round\" style=\"stroke:black;stroke-width:3\" /><line x1=\"732.976\" y1=\"1129.192\" x2=\"736.726\" y2=\"1130.543\" stroke-linecap=\"round\" style=\"stroke:black;stroke-width:3\" /><line x1=\"736.726\" y1=\"1130.543\" x2=\"740.491\" y2=\"1131.85\" stroke-linecap=\"round\" style=\"stroke:black;stroke-width:3\" /><line x1=\"740.491\" y1=\"1131.85\" x2=\"744.271\" y2=\"1133.113\" stroke-linecap=\"round\" style=\"stroke:black;stroke-width:3\" /><line x1=\"744.271\" y1=\"1133.113\" x2=\"748.066\" y2=\"1134.331\" stroke-linecap=\"round\" style=\"stroke:black;stroke-width:3\" /><line x1=\"748.066\" y1=\"1134.331\" x2=\"751.875\" y2=\"1135.505\" stroke-linecap=\"round\" style=\"stroke:black;stroke-width:3\" /><line x1=\"751.875\" y1=\"1135.505\" x2=\"755.697\" y2=\"1136.634\" stroke-linecap=\"round\" style=\"stroke:black;stroke-width:3\" /><line x1=\"755.697\" y1=\"1136.634\" x2=\"759.532\" y2=\"1137.718\" stroke-linecap=\"round\" style=\"stroke:black;stroke-width:3\" /><line x1=\"759.532\" y1=\"1137.718\" x2=\"763.38\" y2=\"1138.757\" stroke-linecap=\"round\" style=\"stroke:black;stroke-width:3\" /><line x1=\"763.38\" y1=\"1138.757\" x2=\"767.24\" y2=\"1139.751\" stroke-linecap=\"round\" style=\"stroke:black;stroke-width:3\" /><line x1=\"767.24\" y1=\"1139.751\" x2=\"771.111\" y2=\"1140.7\" stroke-linecap=\"round\" style=\"stroke:black;stroke-width:3\" /><line x1=\"771.111\" y1=\"1140.7\" x2=\"774.993\" y2=\"1141.603\" stroke-linecap=\"round\" style=\"stroke:black;stroke-width:3\" /><line x1=\"774.993\" y1=\"1141.603\" x2=\"778.885\" y2=\"1142.461\" stroke-linecap=\"round\" style=\"stroke:black;stroke-width:3\" /><line x1=\"778.885\" y1=\"1142.461\" x2=\"782.787\" y2=\"1143.273\" stroke-linecap=\"round\" style=\"stroke:black;stroke-width:3\" /><line x1=\"782.787\" y1=\"1143.273\" x2=\"786.698\" y2=\"1144.039\" stroke-linecap=\"round\" style=\"stroke:black;stroke-width:3\" /><line x1=\"786.698\" y1=\"1144.039\" x2=\"790.618\" y2=\"1144.759\" stroke-linecap=\"round\" style=\"stroke:black;stroke-width:3\" /><line x1=\"790.618\" y1=\"1144.759\" x2=\"794.546\" y2=\"1145.433\" stroke-linecap=\"round\" style=\"stroke:black;stroke-width:3\" /><line x1=\"794.546\" y1=\"1145.433\" x2=\"798.482\" y2=\"1146.061\" stroke-linecap=\"round\" style=\"stroke:black;stroke-width:3\" /><line x1=\"798.482\" y1=\"1146.061\" x2=\"802.425\" y2=\"1146.643\" stroke-linecap=\"round\" style=\"stroke:black;stroke-width:3\" /><line x1=\"802.425\" y1=\"1146.643\" x2=\"806.374\" y2=\"1147.179\" stroke-linecap=\"round\" style=\"stroke:black;stroke-width:3\" /><line x1=\"806.374\" y1=\"1147.179\" x2=\"810.329\" y2=\"1147.668\" stroke-linecap=\"round\" style=\"stroke:black;stroke-width:3\" /><line x1=\"810.329\" y1=\"1147.668\" x2=\"814.29\" y2=\"1148.111\" stroke-linecap=\"round\" style=\"stroke:black;stroke-width:3\" /><line x1=\"814.29\" y1=\"1148.111\" x2=\"818.256\" y2=\"1148.507\" stroke-linecap=\"round\" style=\"stroke:black;stroke-width:3\" /><line x1=\"818.256\" y1=\"1148.507\" x2=\"822.226\" y2=\"1148.857\" stroke-linecap=\"round\" style=\"stroke:black;stroke-width:3\" /><line x1=\"822.226\" y1=\"1148.857\" x2=\"826.2\" y2=\"1149.16\" stroke-linecap=\"round\" style=\"stroke:black;stroke-width:3\" /><line x1=\"826.2\" y1=\"1149.16\" x2=\"830.177\" y2=\"1149.417\" stroke-linecap=\"round\" style=\"stroke:black;stroke-width:3\" /><line x1=\"830.177\" y1=\"1149.417\" x2=\"834.157\" y2=\"1149.627\" stroke-linecap=\"round\" style=\"stroke:black;stroke-width:3\" /><line x1=\"834.157\" y1=\"1149.627\" x2=\"838.139\" y2=\"1149.79\" stroke-linecap=\"round\" style=\"stroke:black;stroke-width:3\" /><line x1=\"838.139\" y1=\"1149.79\" x2=\"842.123\" y2=\"1149.907\" stroke-linecap=\"round\" style=\"stroke:black;stroke-width:3\" /><line x1=\"842.123\" y1=\"1149.907\" x2=\"846.108\" y2=\"1149.977\" stroke-linecap=\"round\" style=\"stroke:black;stroke-width:3\" /><line x1=\"846.108\" y1=\"1149.977\" x2=\"850.094\" y2=\"1150.0\" stroke-linecap=\"round\" style=\"stroke:black;stroke-width:3\" /><line x1=\"850.094\" y1=\"1150.0\" x2=\"854.094\" y2=\"1149.985\" stroke-linecap=\"round\" style=\"stroke:black;stroke-width:3\" /><line x1=\"854.094\" y1=\"1149.985\" x2=\"858.093\" y2=\"1149.941\" stroke-linecap=\"round\" style=\"stroke:black;stroke-width:3\" /><line x1=\"858.093\" y1=\"1149.941\" x2=\"862.092\" y2=\"1149.868\" stroke-linecap=\"round\" style=\"stroke:black;stroke-width:3\" /><line x1=\"862.092\" y1=\"1149.868\" x2=\"866.09\" y2=\"1149.766\" stroke-linecap=\"round\" style=\"stroke:black;stroke-width:3\" /><line x1=\"866.09\" y1=\"1149.766\" x2=\"870.088\" y2=\"1149.635\" stroke-linecap=\"round\" style=\"stroke:black;stroke-width:3\" /><line x1=\"870.088\" y1=\"1149.635\" x2=\"874.085\" y2=\"1149.475\" stroke-linecap=\"round\" style=\"stroke:black;stroke-width:3\" /><line x1=\"874.085\" y1=\"1149.475\" x2=\"878.08\" y2=\"1149.286\" stroke-linecap=\"round\" style=\"stroke:black;stroke-width:3\" /><line x1=\"878.08\" y1=\"1149.286\" x2=\"882.074\" y2=\"1149.068\" stroke-linecap=\"round\" style=\"stroke:black;stroke-width:3\" /><line x1=\"882.074\" y1=\"1149.068\" x2=\"886.066\" y2=\"1148.821\" stroke-linecap=\"round\" style=\"stroke:black;stroke-width:3\" /><line x1=\"886.066\" y1=\"1148.821\" x2=\"890.056\" y2=\"1148.545\" stroke-linecap=\"round\" style=\"stroke:black;stroke-width:3\" /><line x1=\"890.056\" y1=\"1148.545\" x2=\"894.044\" y2=\"1148.24\" stroke-linecap=\"round\" style=\"stroke:black;stroke-width:3\" /><line x1=\"894.044\" y1=\"1148.24\" x2=\"898.03\" y2=\"1147.906\" stroke-linecap=\"round\" style=\"stroke:black;stroke-width:3\" /><line x1=\"898.03\" y1=\"1147.906\" x2=\"902.013\" y2=\"1147.543\" stroke-linecap=\"round\" style=\"stroke:black;stroke-width:3\" /><line x1=\"902.013\" y1=\"1147.543\" x2=\"905.993\" y2=\"1147.151\" stroke-linecap=\"round\" style=\"stroke:black;stroke-width:3\" /><line x1=\"905.993\" y1=\"1147.151\" x2=\"909.97\" y2=\"1146.73\" stroke-linecap=\"round\" style=\"stroke:black;stroke-width:3\" /><line x1=\"909.97\" y1=\"1146.73\" x2=\"913.944\" y2=\"1146.28\" stroke-linecap=\"round\" style=\"stroke:black;stroke-width:3\" /><line x1=\"913.944\" y1=\"1146.28\" x2=\"917.915\" y2=\"1145.801\" stroke-linecap=\"round\" style=\"stroke:black;stroke-width:3\" /><line x1=\"917.915\" y1=\"1145.801\" x2=\"921.882\" y2=\"1145.293\" stroke-linecap=\"round\" style=\"stroke:black;stroke-width:3\" /><line x1=\"921.882\" y1=\"1145.293\" x2=\"925.846\" y2=\"1144.757\" stroke-linecap=\"round\" style=\"stroke:black;stroke-width:3\" /><line x1=\"925.846\" y1=\"1144.757\" x2=\"929.806\" y2=\"1144.192\" stroke-linecap=\"round\" style=\"stroke:black;stroke-width:3\" /><line x1=\"929.806\" y1=\"1144.192\" x2=\"933.761\" y2=\"1143.598\" stroke-linecap=\"round\" style=\"stroke:black;stroke-width:3\" /><line x1=\"933.761\" y1=\"1143.598\" x2=\"937.712\" y2=\"1142.975\" stroke-linecap=\"round\" style=\"stroke:black;stroke-width:3\" /><line x1=\"937.712\" y1=\"1142.975\" x2=\"941.658\" y2=\"1142.323\" stroke-linecap=\"round\" style=\"stroke:black;stroke-width:3\" /><line x1=\"941.658\" y1=\"1142.323\" x2=\"945.599\" y2=\"1141.643\" stroke-linecap=\"round\" style=\"stroke:black;stroke-width:3\" /><line x1=\"945.599\" y1=\"1141.643\" x2=\"949.535\" y2=\"1140.934\" stroke-linecap=\"round\" style=\"stroke:black;stroke-width:3\" /><line x1=\"949.535\" y1=\"1140.934\" x2=\"953.466\" y2=\"1140.197\" stroke-linecap=\"round\" style=\"stroke:black;stroke-width:3\" /><line x1=\"953.466\" y1=\"1140.197\" x2=\"957.392\" y2=\"1139.431\" stroke-linecap=\"round\" style=\"stroke:black;stroke-width:3\" /><line x1=\"957.392\" y1=\"1139.431\" x2=\"961.312\" y2=\"1138.636\" stroke-linecap=\"round\" style=\"stroke:black;stroke-width:3\" /><line x1=\"961.312\" y1=\"1138.636\" x2=\"965.226\" y2=\"1137.813\" stroke-linecap=\"round\" style=\"stroke:black;stroke-width:3\" /><line x1=\"965.226\" y1=\"1137.813\" x2=\"969.134\" y2=\"1136.962\" stroke-linecap=\"round\" style=\"stroke:black;stroke-width:3\" /><line x1=\"969.134\" y1=\"1136.962\" x2=\"973.036\" y2=\"1136.082\" stroke-linecap=\"round\" style=\"stroke:black;stroke-width:3\" /><line x1=\"973.036\" y1=\"1136.082\" x2=\"976.931\" y2=\"1135.174\" stroke-linecap=\"round\" style=\"stroke:black;stroke-width:3\" /><line x1=\"976.931\" y1=\"1135.174\" x2=\"980.82\" y2=\"1134.237\" stroke-linecap=\"round\" style=\"stroke:black;stroke-width:3\" /><line x1=\"980.82\" y1=\"1134.237\" x2=\"984.702\" y2=\"1133.272\" stroke-linecap=\"round\" style=\"stroke:black;stroke-width:3\" /><line x1=\"984.702\" y1=\"1133.272\" x2=\"988.576\" y2=\"1132.279\" stroke-linecap=\"round\" style=\"stroke:black;stroke-width:3\" /><line x1=\"988.576\" y1=\"1132.279\" x2=\"992.443\" y2=\"1131.258\" stroke-linecap=\"round\" style=\"stroke:black;stroke-width:3\" /><line x1=\"992.443\" y1=\"1131.258\" x2=\"996.303\" y2=\"1130.209\" stroke-linecap=\"round\" style=\"stroke:black;stroke-width:3\" /><line x1=\"996.303\" y1=\"1130.209\" x2=\"1000.155\" y2=\"1129.132\" stroke-linecap=\"round\" style=\"stroke:black;stroke-width:3\" /><line x1=\"1000.155\" y1=\"1129.132\" x2=\"1003.999\" y2=\"1128.027\" stroke-linecap=\"round\" style=\"stroke:black;stroke-width:3\" /><line x1=\"1003.999\" y1=\"1128.027\" x2=\"1007.835\" y2=\"1126.894\" stroke-linecap=\"round\" style=\"stroke:black;stroke-width:3\" /><line x1=\"1007.835\" y1=\"1126.894\" x2=\"1011.662\" y2=\"1125.733\" stroke-linecap=\"round\" style=\"stroke:black;stroke-width:3\" /><line x1=\"1011.662\" y1=\"1125.733\" x2=\"1015.481\" y2=\"1124.544\" stroke-linecap=\"round\" style=\"stroke:black;stroke-width:3\" /><line x1=\"1015.481\" y1=\"1124.544\" x2=\"1019.291\" y2=\"1123.327\" stroke-linecap=\"round\" style=\"stroke:black;stroke-width:3\" /><line x1=\"1019.291\" y1=\"1123.327\" x2=\"1023.092\" y2=\"1122.083\" stroke-linecap=\"round\" style=\"stroke:black;stroke-width:3\" /><line x1=\"1023.092\" y1=\"1122.083\" x2=\"1026.884\" y2=\"1120.811\" stroke-linecap=\"round\" style=\"stroke:black;stroke-width:3\" /><line x1=\"1026.884\" y1=\"1120.811\" x2=\"1030.667\" y2=\"1119.512\" stroke-linecap=\"round\" style=\"stroke:black;stroke-width:3\" /><line x1=\"1030.667\" y1=\"1119.512\" x2=\"1034.44\" y2=\"1118.185\" stroke-linecap=\"round\" style=\"stroke:black;stroke-width:3\" /><line x1=\"1034.44\" y1=\"1118.185\" x2=\"1038.203\" y2=\"1116.831\" stroke-linecap=\"round\" style=\"stroke:black;stroke-width:3\" /><line x1=\"1038.203\" y1=\"1116.831\" x2=\"1041.957\" y2=\"1115.449\" stroke-linecap=\"round\" style=\"stroke:black;stroke-width:3\" /><line x1=\"1041.957\" y1=\"1115.449\" x2=\"1045.7\" y2=\"1114.04\" stroke-linecap=\"round\" style=\"stroke:black;stroke-width:3\" /><line x1=\"1045.7\" y1=\"1114.04\" x2=\"1049.433\" y2=\"1112.604\" stroke-linecap=\"round\" style=\"stroke:black;stroke-width:3\" /><line x1=\"1049.433\" y1=\"1112.604\" x2=\"1053.155\" y2=\"1111.141\" stroke-linecap=\"round\" style=\"stroke:black;stroke-width:3\" /><line x1=\"1053.155\" y1=\"1111.141\" x2=\"1056.867\" y2=\"1109.651\" stroke-linecap=\"round\" style=\"stroke:black;stroke-width:3\" /><line x1=\"1056.867\" y1=\"1109.651\" x2=\"1060.568\" y2=\"1108.134\" stroke-linecap=\"round\" style=\"stroke:black;stroke-width:3\" /><line x1=\"1060.568\" y1=\"1108.134\" x2=\"1064.258\" y2=\"1106.59\" stroke-linecap=\"round\" style=\"stroke:black;stroke-width:3\" /><line x1=\"1064.258\" y1=\"1106.59\" x2=\"1067.936\" y2=\"1105.019\" stroke-linecap=\"round\" style=\"stroke:black;stroke-width:3\" /><line x1=\"1067.936\" y1=\"1105.019\" x2=\"1071.603\" y2=\"1103.421\" stroke-linecap=\"round\" style=\"stroke:black;stroke-width:3\" /><line x1=\"1071.603\" y1=\"1103.421\" x2=\"1075.258\" y2=\"1101.797\" stroke-linecap=\"round\" style=\"stroke:black;stroke-width:3\" /><line x1=\"1075.258\" y1=\"1101.797\" x2=\"1078.901\" y2=\"1100.146\" stroke-linecap=\"round\" style=\"stroke:black;stroke-width:3\" /><line x1=\"1078.901\" y1=\"1100.146\" x2=\"1082.532\" y2=\"1098.469\" stroke-linecap=\"round\" style=\"stroke:black;stroke-width:3\" /><line x1=\"1082.532\" y1=\"1098.469\" x2=\"1086.151\" y2=\"1096.765\" stroke-linecap=\"round\" style=\"stroke:black;stroke-width:3\" /><line x1=\"1086.151\" y1=\"1096.765\" x2=\"1089.757\" y2=\"1095.035\" stroke-linecap=\"round\" style=\"stroke:black;stroke-width:3\" /><line x1=\"1089.757\" y1=\"1095.035\" x2=\"1093.351\" y2=\"1093.279\" stroke-linecap=\"round\" style=\"stroke:black;stroke-width:3\" /><line x1=\"1093.351\" y1=\"1093.279\" x2=\"1096.932\" y2=\"1091.497\" stroke-linecap=\"round\" style=\"stroke:black;stroke-width:3\" /><line x1=\"1096.932\" y1=\"1091.497\" x2=\"1100.5\" y2=\"1089.689\" stroke-linecap=\"round\" style=\"stroke:black;stroke-width:3\" /><line x1=\"1100.5\" y1=\"1089.689\" x2=\"1104.054\" y2=\"1087.855\" stroke-linecap=\"round\" style=\"stroke:black;stroke-width:3\" /><line x1=\"1104.054\" y1=\"1087.855\" x2=\"1107.595\" y2=\"1085.995\" stroke-linecap=\"round\" style=\"stroke:black;stroke-width:3\" /><line x1=\"1107.595\" y1=\"1085.995\" x2=\"1111.122\" y2=\"1084.11\" stroke-linecap=\"round\" style=\"stroke:black;stroke-width:3\" /><line x1=\"1111.122\" y1=\"1084.11\" x2=\"1114.636\" y2=\"1082.199\" stroke-linecap=\"round\" style=\"stroke:black;stroke-width:3\" /><line x1=\"1114.636\" y1=\"1082.199\" x2=\"1118.136\" y2=\"1080.262\" stroke-linecap=\"round\" style=\"stroke:black;stroke-width:3\" /><line x1=\"1118.136\" y1=\"1080.262\" x2=\"1121.621\" y2=\"1078.3\" stroke-linecap=\"round\" style=\"stroke:black;stroke-width:3\" /><line x1=\"1121.621\" y1=\"1078.3\" x2=\"1125.092\" y2=\"1076.313\" stroke-linecap=\"round\" style=\"stroke:black;stroke-width:3\" /><line x1=\"1125.092\" y1=\"1076.313\" x2=\"1128.549\" y2=\"1074.301\" stroke-linecap=\"round\" style=\"stroke:black;stroke-width:3\" /><line x1=\"1128.549\" y1=\"1074.301\" x2=\"1131.991\" y2=\"1072.263\" stroke-linecap=\"round\" style=\"stroke:black;stroke-width:3\" /><line x1=\"1131.991\" y1=\"1072.263\" x2=\"1135.418\" y2=\"1070.201\" stroke-linecap=\"round\" style=\"stroke:black;stroke-width:3\" /><line x1=\"1135.418\" y1=\"1070.201\" x2=\"1138.83\" y2=\"1068.114\" stroke-linecap=\"round\" style=\"stroke:black;stroke-width:3\" /><line x1=\"1138.83\" y1=\"1068.114\" x2=\"1142.227\" y2=\"1066.002\" stroke-linecap=\"round\" style=\"stroke:black;stroke-width:3\" /><line x1=\"1142.227\" y1=\"1066.002\" x2=\"1145.608\" y2=\"1063.865\" stroke-linecap=\"round\" style=\"stroke:black;stroke-width:3\" /><line x1=\"1145.608\" y1=\"1063.865\" x2=\"1148.973\" y2=\"1061.704\" stroke-linecap=\"round\" style=\"stroke:black;stroke-width:3\" /><line x1=\"1148.973\" y1=\"1061.704\" x2=\"1152.323\" y2=\"1059.518\" stroke-linecap=\"round\" style=\"stroke:black;stroke-width:3\" /><line x1=\"1152.323\" y1=\"1059.518\" x2=\"1155.657\" y2=\"1057.308\" stroke-linecap=\"round\" style=\"stroke:black;stroke-width:3\" /><line x1=\"1155.657\" y1=\"1057.308\" x2=\"1158.975\" y2=\"1055.074\" stroke-linecap=\"round\" style=\"stroke:black;stroke-width:3\" /><line x1=\"1158.975\" y1=\"1055.074\" x2=\"1162.276\" y2=\"1052.816\" stroke-linecap=\"round\" style=\"stroke:black;stroke-width:3\" /><line x1=\"1162.276\" y1=\"1052.816\" x2=\"1165.561\" y2=\"1050.534\" stroke-linecap=\"round\" style=\"stroke:black;stroke-width:3\" /><line x1=\"1165.561\" y1=\"1050.534\" x2=\"1168.829\" y2=\"1048.228\" stroke-linecap=\"round\" style=\"stroke:black;stroke-width:3\" /><line x1=\"1168.829\" y1=\"1048.228\" x2=\"1172.08\" y2=\"1045.898\" stroke-linecap=\"round\" style=\"stroke:black;stroke-width:3\" /><line x1=\"1172.08\" y1=\"1045.898\" x2=\"1175.314\" y2=\"1043.545\" stroke-linecap=\"round\" style=\"stroke:black;stroke-width:3\" /><line x1=\"1175.314\" y1=\"1043.545\" x2=\"1178.531\" y2=\"1041.168\" stroke-linecap=\"round\" style=\"stroke:black;stroke-width:3\" /><line x1=\"1178.531\" y1=\"1041.168\" x2=\"1181.731\" y2=\"1038.768\" stroke-linecap=\"round\" style=\"stroke:black;stroke-width:3\" /><line x1=\"1181.731\" y1=\"1038.768\" x2=\"1184.913\" y2=\"1036.345\" stroke-linecap=\"round\" style=\"stroke:black;stroke-width:3\" /><line x1=\"1184.913\" y1=\"1036.345\" x2=\"1188.077\" y2=\"1033.899\" stroke-linecap=\"round\" style=\"stroke:black;stroke-width:3\" /><line x1=\"1188.077\" y1=\"1033.899\" x2=\"1191.223\" y2=\"1031.43\" stroke-linecap=\"round\" style=\"stroke:black;stroke-width:3\" /><line x1=\"1191.223\" y1=\"1031.43\" x2=\"1194.351\" y2=\"1028.938\" stroke-linecap=\"round\" style=\"stroke:black;stroke-width:3\" /><line x1=\"1194.351\" y1=\"1028.938\" x2=\"1197.461\" y2=\"1026.423\" stroke-linecap=\"round\" style=\"stroke:black;stroke-width:3\" /><line x1=\"1197.461\" y1=\"1026.423\" x2=\"1200.553\" y2=\"1023.886\" stroke-linecap=\"round\" style=\"stroke:black;stroke-width:3\" /><line x1=\"1200.553\" y1=\"1023.886\" x2=\"1203.626\" y2=\"1021.326\" stroke-linecap=\"round\" style=\"stroke:black;stroke-width:3\" /><line x1=\"1203.626\" y1=\"1021.326\" x2=\"1206.681\" y2=\"1018.744\" stroke-linecap=\"round\" style=\"stroke:black;stroke-width:3\" /><line x1=\"1206.681\" y1=\"1018.744\" x2=\"1209.717\" y2=\"1016.14\" stroke-linecap=\"round\" style=\"stroke:black;stroke-width:3\" /><line x1=\"1209.717\" y1=\"1016.14\" x2=\"1212.734\" y2=\"1013.514\" stroke-linecap=\"round\" style=\"stroke:black;stroke-width:3\" /><line x1=\"1212.734\" y1=\"1013.514\" x2=\"1215.732\" y2=\"1010.866\" stroke-linecap=\"round\" style=\"stroke:black;stroke-width:3\" /><line x1=\"1215.732\" y1=\"1010.866\" x2=\"1218.71\" y2=\"1008.196\" stroke-linecap=\"round\" style=\"stroke:black;stroke-width:3\" /><line x1=\"1218.71\" y1=\"1008.196\" x2=\"1221.669\" y2=\"1005.505\" stroke-linecap=\"round\" style=\"stroke:black;stroke-width:3\" /><line x1=\"1221.669\" y1=\"1005.505\" x2=\"1224.608\" y2=\"1002.792\" stroke-linecap=\"round\" style=\"stroke:black;stroke-width:3\" /><line x1=\"1224.608\" y1=\"1002.792\" x2=\"1227.527\" y2=\"1000.058\" stroke-linecap=\"round\" style=\"stroke:black;stroke-width:3\" /><line x1=\"1227.527\" y1=\"1000.058\" x2=\"1230.426\" y2=\"997.303\" stroke-linecap=\"round\" style=\"stroke:black;stroke-width:3\" /><line x1=\"1230.426\" y1=\"997.303\" x2=\"1233.305\" y2=\"994.527\" stroke-linecap=\"round\" style=\"stroke:black;stroke-width:3\" /><line x1=\"1233.305\" y1=\"994.527\" x2=\"1236.164\" y2=\"991.73\" stroke-linecap=\"round\" style=\"stroke:black;stroke-width:3\" /><line x1=\"1236.164\" y1=\"991.73\" x2=\"1239.002\" y2=\"988.912\" stroke-linecap=\"round\" style=\"stroke:black;stroke-width:3\" /><line x1=\"1239.002\" y1=\"988.912\" x2=\"1241.82\" y2=\"986.074\" stroke-linecap=\"round\" style=\"stroke:black;stroke-width:3\" /><line x1=\"1241.82\" y1=\"986.074\" x2=\"1244.617\" y2=\"983.215\" stroke-linecap=\"round\" style=\"stroke:black;stroke-width:3\" /><line x1=\"1244.617\" y1=\"983.215\" x2=\"1247.393\" y2=\"980.336\" stroke-linecap=\"round\" style=\"stroke:black;stroke-width:3\" /><line x1=\"1247.393\" y1=\"980.336\" x2=\"1250.148\" y2=\"977.437\" stroke-linecap=\"round\" style=\"stroke:black;stroke-width:3\" /><line x1=\"1250.148\" y1=\"977.437\" x2=\"1252.882\" y2=\"974.518\" stroke-linecap=\"round\" style=\"stroke:black;stroke-width:3\" /><line x1=\"1252.882\" y1=\"974.518\" x2=\"1255.595\" y2=\"971.579\" stroke-linecap=\"round\" style=\"stroke:black;stroke-width:3\" /><line x1=\"1255.595\" y1=\"971.579\" x2=\"1258.286\" y2=\"968.62\" stroke-linecap=\"round\" style=\"stroke:black;stroke-width:3\" /><line x1=\"1258.286\" y1=\"968.62\" x2=\"1260.956\" y2=\"965.642\" stroke-linecap=\"round\" style=\"stroke:black;stroke-width:3\" /><line x1=\"1260.956\" y1=\"965.642\" x2=\"1263.604\" y2=\"962.644\" stroke-linecap=\"round\" style=\"stroke:black;stroke-width:3\" /><line x1=\"1263.604\" y1=\"962.644\" x2=\"1266.23\" y2=\"959.627\" stroke-linecap=\"round\" style=\"stroke:black;stroke-width:3\" /><line x1=\"1266.23\" y1=\"959.627\" x2=\"1268.834\" y2=\"956.591\" stroke-linecap=\"round\" style=\"stroke:black;stroke-width:3\" /><line x1=\"1268.834\" y1=\"956.591\" x2=\"1271.416\" y2=\"953.536\" stroke-linecap=\"round\" style=\"stroke:black;stroke-width:3\" /><line x1=\"1271.416\" y1=\"953.536\" x2=\"1273.976\" y2=\"950.463\" stroke-linecap=\"round\" style=\"stroke:black;stroke-width:3\" /><line x1=\"1273.976\" y1=\"950.463\" x2=\"1276.513\" y2=\"947.371\" stroke-linecap=\"round\" style=\"stroke:black;stroke-width:3\" /><line x1=\"1276.513\" y1=\"947.371\" x2=\"1279.028\" y2=\"944.261\" stroke-linecap=\"round\" style=\"stroke:black;stroke-width:3\" /><line x1=\"1279.028\" y1=\"944.261\" x2=\"1281.52\" y2=\"941.133\" stroke-linecap=\"round\" style=\"stroke:black;stroke-width:3\" /><line x1=\"1281.52\" y1=\"941.133\" x2=\"1283.989\" y2=\"937.987\" stroke-linecap=\"round\" style=\"stroke:black;stroke-width:3\" /><line x1=\"1283.989\" y1=\"937.987\" x2=\"1286.435\" y2=\"934.823\" stroke-linecap=\"round\" style=\"stroke:black;stroke-width:3\" /><line x1=\"1286.435\" y1=\"934.823\" x2=\"1288.858\" y2=\"931.641\" stroke-linecap=\"round\" style=\"stroke:black;stroke-width:3\" /><line x1=\"1288.858\" y1=\"931.641\" x2=\"1291.258\" y2=\"928.441\" stroke-linecap=\"round\" style=\"stroke:black;stroke-width:3\" /><line x1=\"1291.258\" y1=\"928.441\" x2=\"1293.635\" y2=\"925.224\" stroke-linecap=\"round\" style=\"stroke:black;stroke-width:3\" /><line x1=\"1293.635\" y1=\"925.224\" x2=\"1295.988\" y2=\"921.99\" stroke-linecap=\"round\" style=\"stroke:black;stroke-width:3\" /><line x1=\"1295.988\" y1=\"921.99\" x2=\"1298.318\" y2=\"918.739\" stroke-linecap=\"round\" style=\"stroke:black;stroke-width:3\" /><line x1=\"1298.318\" y1=\"918.739\" x2=\"1300.624\" y2=\"915.471\" stroke-linecap=\"round\" style=\"stroke:black;stroke-width:3\" /><line x1=\"1300.624\" y1=\"915.471\" x2=\"1302.906\" y2=\"912.186\" stroke-linecap=\"round\" style=\"stroke:black;stroke-width:3\" /><line x1=\"1302.906\" y1=\"912.186\" x2=\"1305.164\" y2=\"908.885\" stroke-linecap=\"round\" style=\"stroke:black;stroke-width:3\" /><line x1=\"1305.164\" y1=\"908.885\" x2=\"1307.398\" y2=\"905.567\" stroke-linecap=\"round\" style=\"stroke:black;stroke-width:3\" /><line x1=\"1307.398\" y1=\"905.567\" x2=\"1309.608\" y2=\"902.233\" stroke-linecap=\"round\" style=\"stroke:black;stroke-width:3\" /><line x1=\"1309.608\" y1=\"902.233\" x2=\"1311.794\" y2=\"898.883\" stroke-linecap=\"round\" style=\"stroke:black;stroke-width:3\" /><line x1=\"1311.794\" y1=\"898.883\" x2=\"1313.955\" y2=\"895.518\" stroke-linecap=\"round\" style=\"stroke:black;stroke-width:3\" /><line x1=\"1313.955\" y1=\"895.518\" x2=\"1316.092\" y2=\"892.137\" stroke-linecap=\"round\" style=\"stroke:black;stroke-width:3\" /><line x1=\"1316.092\" y1=\"892.137\" x2=\"1318.204\" y2=\"888.74\" stroke-linecap=\"round\" style=\"stroke:black;stroke-width:3\" /><line x1=\"1318.204\" y1=\"888.74\" x2=\"1320.291\" y2=\"885.328\" stroke-linecap=\"round\" style=\"stroke:black;stroke-width:3\" /><line x1=\"1320.291\" y1=\"885.328\" x2=\"1322.353\" y2=\"881.901\" stroke-linecap=\"round\" style=\"stroke:black;stroke-width:3\" /><line x1=\"1322.353\" y1=\"881.901\" x2=\"1324.391\" y2=\"878.459\" stroke-linecap=\"round\" style=\"stroke:black;stroke-width:3\" /><line x1=\"1324.391\" y1=\"878.459\" x2=\"1326.403\" y2=\"875.002\" stroke-linecap=\"round\" style=\"stroke:black;stroke-width:3\" /><line x1=\"1326.403\" y1=\"875.002\" x2=\"1328.39\" y2=\"871.531\" stroke-linecap=\"round\" style=\"stroke:black;stroke-width:3\" /><line x1=\"1328.39\" y1=\"871.531\" x2=\"1330.352\" y2=\"868.046\" stroke-linecap=\"round\" style=\"stroke:black;stroke-width:3\" /><line x1=\"1330.352\" y1=\"868.046\" x2=\"1332.289\" y2=\"864.546\" stroke-linecap=\"round\" style=\"stroke:black;stroke-width:3\" /><line x1=\"1332.289\" y1=\"864.546\" x2=\"1334.2\" y2=\"861.032\" stroke-linecap=\"round\" style=\"stroke:black;stroke-width:3\" /><line x1=\"1334.2\" y1=\"861.032\" x2=\"1336.085\" y2=\"857.505\" stroke-linecap=\"round\" style=\"stroke:black;stroke-width:3\" /><line x1=\"1336.085\" y1=\"857.505\" x2=\"1337.945\" y2=\"853.964\" stroke-linecap=\"round\" style=\"stroke:black;stroke-width:3\" /><line x1=\"1337.945\" y1=\"853.964\" x2=\"1339.779\" y2=\"850.41\" stroke-linecap=\"round\" style=\"stroke:black;stroke-width:3\" /><line x1=\"1339.779\" y1=\"850.41\" x2=\"1341.587\" y2=\"846.842\" stroke-linecap=\"round\" style=\"stroke:black;stroke-width:3\" /><line x1=\"1341.587\" y1=\"846.842\" x2=\"1343.369\" y2=\"843.261\" stroke-linecap=\"round\" style=\"stroke:black;stroke-width:3\" /><line x1=\"1343.369\" y1=\"843.261\" x2=\"1345.125\" y2=\"839.667\" stroke-linecap=\"round\" style=\"stroke:black;stroke-width:3\" /><line x1=\"1345.125\" y1=\"839.667\" x2=\"1346.855\" y2=\"836.061\" stroke-linecap=\"round\" style=\"stroke:black;stroke-width:3\" /><line x1=\"1346.855\" y1=\"836.061\" x2=\"1348.559\" y2=\"832.442\" stroke-linecap=\"round\" style=\"stroke:black;stroke-width:3\" /><line x1=\"1348.559\" y1=\"832.442\" x2=\"1350.236\" y2=\"828.811\" stroke-linecap=\"round\" style=\"stroke:black;stroke-width:3\" /><line x1=\"1350.236\" y1=\"828.811\" x2=\"1351.887\" y2=\"825.168\" stroke-linecap=\"round\" style=\"stroke:black;stroke-width:3\" /><line x1=\"1351.887\" y1=\"825.168\" x2=\"1353.511\" y2=\"821.513\" stroke-linecap=\"round\" style=\"stroke:black;stroke-width:3\" /><line x1=\"1353.511\" y1=\"821.513\" x2=\"1355.109\" y2=\"817.846\" stroke-linecap=\"round\" style=\"stroke:black;stroke-width:3\" /><line x1=\"1355.109\" y1=\"817.846\" x2=\"1356.68\" y2=\"814.168\" stroke-linecap=\"round\" style=\"stroke:black;stroke-width:3\" /><line x1=\"1356.68\" y1=\"814.168\" x2=\"1358.224\" y2=\"810.478\" stroke-linecap=\"round\" style=\"stroke:black;stroke-width:3\" /><line x1=\"1358.224\" y1=\"810.478\" x2=\"1359.741\" y2=\"806.777\" stroke-linecap=\"round\" style=\"stroke:black;stroke-width:3\" /><line x1=\"1359.741\" y1=\"806.777\" x2=\"1361.231\" y2=\"803.065\" stroke-linecap=\"round\" style=\"stroke:black;stroke-width:3\" /><line x1=\"1361.231\" y1=\"803.065\" x2=\"1362.694\" y2=\"799.343\" stroke-linecap=\"round\" style=\"stroke:black;stroke-width:3\" /><line x1=\"1362.694\" y1=\"799.343\" x2=\"1364.13\" y2=\"795.61\" stroke-linecap=\"round\" style=\"stroke:black;stroke-width:3\" /><line x1=\"1364.13\" y1=\"795.61\" x2=\"1365.539\" y2=\"791.867\" stroke-linecap=\"round\" style=\"stroke:black;stroke-width:3\" /><line x1=\"1365.539\" y1=\"791.867\" x2=\"1366.921\" y2=\"788.113\" stroke-linecap=\"round\" style=\"stroke:black;stroke-width:3\" /><line x1=\"1366.921\" y1=\"788.113\" x2=\"1368.275\" y2=\"784.35\" stroke-linecap=\"round\" style=\"stroke:black;stroke-width:3\" /><line x1=\"1368.275\" y1=\"784.35\" x2=\"1369.602\" y2=\"780.577\" stroke-linecap=\"round\" style=\"stroke:black;stroke-width:3\" /><line x1=\"1369.602\" y1=\"780.577\" x2=\"1370.901\" y2=\"776.794\" stroke-linecap=\"round\" style=\"stroke:black;stroke-width:3\" /><line x1=\"1370.901\" y1=\"776.794\" x2=\"1372.173\" y2=\"773.002\" stroke-linecap=\"round\" style=\"stroke:black;stroke-width:3\" /><line x1=\"1372.173\" y1=\"773.002\" x2=\"1373.417\" y2=\"769.201\" stroke-linecap=\"round\" style=\"stroke:black;stroke-width:3\" /><line x1=\"1373.417\" y1=\"769.201\" x2=\"1374.634\" y2=\"765.391\" stroke-linecap=\"round\" style=\"stroke:black;stroke-width:3\" /><line x1=\"1374.634\" y1=\"765.391\" x2=\"1375.823\" y2=\"761.572\" stroke-linecap=\"round\" style=\"stroke:black;stroke-width:3\" /><line x1=\"1375.823\" y1=\"761.572\" x2=\"1376.984\" y2=\"757.745\" stroke-linecap=\"round\" style=\"stroke:black;stroke-width:3\" /><line x1=\"1376.984\" y1=\"757.745\" x2=\"1378.117\" y2=\"753.909\" stroke-linecap=\"round\" style=\"stroke:black;stroke-width:3\" /><line x1=\"1378.117\" y1=\"753.909\" x2=\"1379.222\" y2=\"750.065\" stroke-linecap=\"round\" style=\"stroke:black;stroke-width:3\" /><line x1=\"1379.222\" y1=\"750.065\" x2=\"1380.299\" y2=\"746.213\" stroke-linecap=\"round\" style=\"stroke:black;stroke-width:3\" /><line x1=\"1380.299\" y1=\"746.213\" x2=\"1381.348\" y2=\"742.353\" stroke-linecap=\"round\" style=\"stroke:black;stroke-width:3\" /><line x1=\"1381.348\" y1=\"742.353\" x2=\"1382.369\" y2=\"738.486\" stroke-linecap=\"round\" style=\"stroke:black;stroke-width:3\" /><line x1=\"1382.369\" y1=\"738.486\" x2=\"1383.362\" y2=\"734.612\" stroke-linecap=\"round\" style=\"stroke:black;stroke-width:3\" /><line x1=\"1383.362\" y1=\"734.612\" x2=\"1384.327\" y2=\"730.73\" stroke-linecap=\"round\" style=\"stroke:black;stroke-width:3\" /><line x1=\"1384.327\" y1=\"730.73\" x2=\"1385.264\" y2=\"726.841\" stroke-linecap=\"round\" style=\"stroke:black;stroke-width:3\" /><line x1=\"1385.264\" y1=\"726.841\" x2=\"1386.172\" y2=\"722.946\" stroke-linecap=\"round\" style=\"stroke:black;stroke-width:3\" /><line x1=\"1386.172\" y1=\"722.946\" x2=\"1387.052\" y2=\"719.044\" stroke-linecap=\"round\" style=\"stroke:black;stroke-width:3\" /><line x1=\"1387.052\" y1=\"719.044\" x2=\"1387.903\" y2=\"715.136\" stroke-linecap=\"round\" style=\"stroke:black;stroke-width:3\" /><line x1=\"1387.903\" y1=\"715.136\" x2=\"1388.726\" y2=\"711.222\" stroke-linecap=\"round\" style=\"stroke:black;stroke-width:3\" /><line x1=\"1388.726\" y1=\"711.222\" x2=\"1389.521\" y2=\"707.302\" stroke-linecap=\"round\" style=\"stroke:black;stroke-width:3\" /><line x1=\"1389.521\" y1=\"707.302\" x2=\"1390.287\" y2=\"703.376\" stroke-linecap=\"round\" style=\"stroke:black;stroke-width:3\" /><line x1=\"1390.287\" y1=\"703.376\" x2=\"1391.024\" y2=\"699.445\" stroke-linecap=\"round\" style=\"stroke:black;stroke-width:3\" /><line x1=\"1391.024\" y1=\"699.445\" x2=\"1391.733\" y2=\"695.509\" stroke-linecap=\"round\" style=\"stroke:black;stroke-width:3\" /><line x1=\"1391.733\" y1=\"695.509\" x2=\"1392.413\" y2=\"691.568\" stroke-linecap=\"round\" style=\"stroke:black;stroke-width:3\" /><line x1=\"1392.413\" y1=\"691.568\" x2=\"1393.065\" y2=\"687.622\" stroke-linecap=\"round\" style=\"stroke:black;stroke-width:3\" /><line x1=\"1393.065\" y1=\"687.622\" x2=\"1393.688\" y2=\"683.671\" stroke-linecap=\"round\" style=\"stroke:black;stroke-width:3\" /><line x1=\"1393.688\" y1=\"683.671\" x2=\"1394.282\" y2=\"679.716\" stroke-linecap=\"round\" style=\"stroke:black;stroke-width:3\" /><line x1=\"1394.282\" y1=\"679.716\" x2=\"1394.847\" y2=\"675.756\" stroke-linecap=\"round\" style=\"stroke:black;stroke-width:3\" /><line x1=\"1394.847\" y1=\"675.756\" x2=\"1395.383\" y2=\"671.792\" stroke-linecap=\"round\" style=\"stroke:black;stroke-width:3\" /><line x1=\"1395.383\" y1=\"671.792\" x2=\"1395.891\" y2=\"667.825\" stroke-linecap=\"round\" style=\"stroke:black;stroke-width:3\" /><line x1=\"1395.891\" y1=\"667.825\" x2=\"1396.37\" y2=\"663.854\" stroke-linecap=\"round\" style=\"stroke:black;stroke-width:3\" /><line x1=\"1396.37\" y1=\"663.854\" x2=\"1396.82\" y2=\"659.88\" stroke-linecap=\"round\" style=\"stroke:black;stroke-width:3\" /><line x1=\"1396.82\" y1=\"659.88\" x2=\"1397.241\" y2=\"655.903\" stroke-linecap=\"round\" style=\"stroke:black;stroke-width:3\" /><line x1=\"1397.241\" y1=\"655.903\" x2=\"1397.633\" y2=\"651.923\" stroke-linecap=\"round\" style=\"stroke:black;stroke-width:3\" /><line x1=\"1397.633\" y1=\"651.923\" x2=\"1397.996\" y2=\"647.94\" stroke-linecap=\"round\" style=\"stroke:black;stroke-width:3\" /><line x1=\"1397.996\" y1=\"647.94\" x2=\"1398.33\" y2=\"643.954\" stroke-linecap=\"round\" style=\"stroke:black;stroke-width:3\" /><line x1=\"1398.33\" y1=\"643.954\" x2=\"1398.635\" y2=\"639.966\" stroke-linecap=\"round\" style=\"stroke:black;stroke-width:3\" /><line x1=\"1398.635\" y1=\"639.966\" x2=\"1398.911\" y2=\"635.976\" stroke-linecap=\"round\" style=\"stroke:black;stroke-width:3\" /><line x1=\"1398.911\" y1=\"635.976\" x2=\"1399.158\" y2=\"631.984\" stroke-linecap=\"round\" style=\"stroke:black;stroke-width:3\" /><line x1=\"1399.158\" y1=\"631.984\" x2=\"1399.376\" y2=\"627.99\" stroke-linecap=\"round\" style=\"stroke:black;stroke-width:3\" /><line x1=\"1399.376\" y1=\"627.99\" x2=\"1399.565\" y2=\"623.995\" stroke-linecap=\"round\" style=\"stroke:black;stroke-width:3\" /><line x1=\"1399.565\" y1=\"623.995\" x2=\"1399.725\" y2=\"619.998\" stroke-linecap=\"round\" style=\"stroke:black;stroke-width:3\" /><line x1=\"1399.725\" y1=\"619.998\" x2=\"1399.856\" y2=\"616.0\" stroke-linecap=\"round\" style=\"stroke:black;stroke-width:3\" /><line x1=\"1399.856\" y1=\"616.0\" x2=\"1399.958\" y2=\"612.002\" stroke-linecap=\"round\" style=\"stroke:black;stroke-width:3\" /><line x1=\"1399.958\" y1=\"612.002\" x2=\"1400.031\" y2=\"608.003\" stroke-linecap=\"round\" style=\"stroke:black;stroke-width:3\" /><line x1=\"1400.031\" y1=\"608.003\" x2=\"1400.075\" y2=\"604.004\" stroke-linecap=\"round\" style=\"stroke:black;stroke-width:3\" /><line x1=\"1400.075\" y1=\"604.004\" x2=\"1400.09\" y2=\"600.004\" stroke-linecap=\"round\" style=\"stroke:black;stroke-width:3\" />\n",
       "        \n",
       "        \n",
       "        <g id=\"classic\" visibility=\"visible\" transform=\"rotate(179.79166666666237,1400.09,600.004) translate(1400.09, 600.004)\">\n",
       "<polygon points=\"-5,-4.5 0,-2.5 5,-4.5 0,4.5\" transform=\"skewX(0) scale(1,1)\" style=\"stroke:black;fill:black;stroke-width:1\" />\n",
       "<animateTransform id = \"one\" attributeName=\"transform\" \n",
       "                      type=\"scale\"\n",
       "                      from=\"1 1\" to=\"1 1\"\n",
       "                      begin=\"0s\" dur=\"0.01s\"\n",
       "                      repeatCount=\"1\"\n",
       "                      additive=\"sum\"\n",
       "                      fill=\"freeze\"\n",
       "                /><animateTransform attributeName=\"transform\"\n",
       "                    type=\"rotate\"\n",
       "                    from=\"0 0 0\" to =\"0.20833333333333334 0 0\"\n",
       "                    begin=\"one.end\" dur=\"0.0005787037037037038s\"\n",
       "                    repeatCount=\"1\"\n",
       "                    additive=\"sum\"\n",
       "                    fill=\"freeze\"\n",
       "                /></g>\n",
       "      </svg>\n",
       "    "
      ],
      "text/plain": [
       "<IPython.core.display.HTML object>"
      ]
     },
     "metadata": {},
     "output_type": "display_data"
    }
   ],
   "source": [
    "# 실습 3. 아래 코드는 turtle이라는 drawing tool을 이용하여 n개의 피보나치 수열에 대한 황금 직사각형과 황금 나선을 그리는 코드이다. \n",
    "# n번째까지의 피보나치 수열을 list 형태로 반환하는 get_Fibonacci() 함수를 구현하고 \n",
    "# 긴 주석 ‘’’ ‘’’ 사이에 들어갈 적절한 코드를 작성하여 n개의 황금 직사각형과 이에 내접하는 황금 나선을 완성하시오.\n",
    "# 단, n은 1 이상 10 이하의 자연수\n",
    "# Hint : ppt 참조\n",
    "\n",
    "# 라이브러리 추가\n",
    "#import turtle\n",
    "from ColabTurtlePlus import Turtle as turtle\n",
    "turtle.initializeTurtle()\n",
    "import math\n",
    "\n",
    "N = 10   # 피보나치 수열의 개수\n",
    "SIZE = 10   # 황금 직사각형 한 변의 길이\n",
    "pi = math.pi   # 파이(pi) 값\n",
    "\n",
    "turtle.clear()\n",
    "turtle.reset()\n",
    "\n",
    "# Turtle 환경 설정\n",
    "turtle.clearscreen()\n",
    "turtle.setup(1500, 1500)\n",
    "wn = turtle.Screen()\n",
    "myTurtle = turtle.Turtle()  # Screen의 크기와 초기 위치 x = 0, y = 0를 가지는 turtle 객체 정의\n",
    "myTurtle.pensize(3)   # 황금 나선을 나타낼 pen 크기\n",
    "myTurtle.speed(5)\n",
    "\n",
    "\n",
    "# n번째까지의 피보나치 수열들을 리스트 형태로 반환하는 함수\n",
    "def get_fibonacci(length):\n",
    "    current_value, next_value = 0, 1\n",
    "    fibonacci_list = list()\n",
    "    for _ in range(length):\n",
    "        #TODO \n",
    "        # 피보나치 구현\n",
    "        temp = current_value\n",
    "        current_value = next_value\n",
    "        next_value = temp + next_value\n",
    "        fibonacci_list.append(current_value)\n",
    "    return fibonacci_list\n",
    "\n",
    "\n",
    "# 피보나치 수열 계산과 황금 직사각형을 그리는 함수\n",
    "def rectangle(fibo_list):\n",
    "    for fibo in fibo_list:                      \n",
    "        #TODO \n",
    "        myTurtle.right(90) # 커서 방향을 right 방향으로 90도로 변경(= 아래로 변경)\n",
    "        #TODO \n",
    "        drawSq(fibo * SIZE) # drawSq(a) => a 길이의 황금 직사각형을 draw\n",
    "        \n",
    "def drawSq(sides):\n",
    "    for _ in range(6): # 사각형의 4개의 변을 지나고 다음 사각형의 시작 지점까지의 거리 2 => 4 + 2 = 6\n",
    "        #TODO\n",
    "        myTurtle.forward(sides)  # 현재 pointer의 방향으로 sides 길이만큼 draw\n",
    "        myTurtle.left(90)\n",
    "\n",
    "        \n",
    "# 황금 나선을 그리는 함수\n",
    "def sprial(fibo_list):\n",
    "    # 나선을 그릴 pen 방향, 초기 위치 등을 정의\n",
    "    r = SIZE                                 # 호(arc)의 반지름 길이\n",
    "    angle = 90\n",
    "    myTurtle.right((90 + 90*N) % 360)      # 현재 커서(황금 직사각형을 그린 후) 방향을 아래쪽을 가리키도록 초기화\n",
    "    myTurtle.penup()                       # 호를 그리는 pen 방향 및 pen 위치 정의\n",
    "    myTurtle.setpos(0,0)                   \n",
    "    myTurtle.pendown()\n",
    "    # 피보나치 수열에 따른 황금 나선 draw\n",
    "    for fibo in fibo_list:\n",
    "        #TODO\n",
    "        arc(fibo * r, angle)\n",
    "        # (n번째 피보나치 수열 값 X SIZE)를 반지름으로하고 angle 만큼의 각도를 가지는 호(arc)를 draw\n",
    "\n",
    "\n",
    "def arcLine(n, length, angle):\n",
    "    for i in range(n):\n",
    "        myTurtle.forward(length)\n",
    "        myTurtle.left(angle)\n",
    "\n",
    "\n",
    "# 입력된 반지름(r) 길이와 각도(angle)에 대하여 호(arc)를 그리는 함수\n",
    "def arc(r, angle):\n",
    "    arc_length = 2 * pi * r * angle / 360\n",
    "    n = int(arc_length / 4) + 1\n",
    "    step_length = arc_length / n\n",
    "    step_angle = float(angle) / n\n",
    "    myTurtle.left(step_angle/2)\n",
    "    arcLine(n, step_length, step_angle)\n",
    "    myTurtle.right(step_angle/2)\n",
    "\n",
    "\n",
    "fibonacci_list = get_fibonacci(N)                                   # 피보나치 수열 획득\n",
    "rectangle(fibonacci_list)                                     # 황금 직사각형 draw\n",
    "sprial(fibonacci_list)                                   # 황금 나선 draw"
   ]
  },
  {
   "cell_type": "code",
   "execution_count": null,
   "id": "d3e991de",
   "metadata": {},
   "outputs": [],
   "source": []
  }
 ],
 "metadata": {
  "kernelspec": {
   "display_name": "Python 3.7.13 ('venv')",
   "language": "python",
   "name": "python3"
  },
  "language_info": {
   "codemirror_mode": {
    "name": "ipython",
    "version": 3
   },
   "file_extension": ".py",
   "mimetype": "text/x-python",
   "name": "python",
   "nbconvert_exporter": "python",
   "pygments_lexer": "ipython3",
   "version": "3.7.13"
  },
  "vscode": {
   "interpreter": {
    "hash": "3960655edd1bb3713a240f177cc31b346e22979df6c8ffe4f822f983f22c7a06"
   }
  }
 },
 "nbformat": 4,
 "nbformat_minor": 5
}
