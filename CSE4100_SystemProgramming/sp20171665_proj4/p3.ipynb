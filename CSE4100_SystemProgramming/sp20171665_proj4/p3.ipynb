{
  "nbformat": 4,
  "nbformat_minor": 0,
  "metadata": {
    "colab": {
      "name": "p3.ipynb",
      "version": "0.3.2",
      "provenance": []
    },
    "kernelspec": {
      "name": "python3",
      "display_name": "Python 3"
    }
  },
  "cells": [
    {
      "cell_type": "code",
      "metadata": {
        "id": "KPTNozvCb5vj",
        "colab_type": "code",
        "outputId": "ef45c606-c914-4146-f502-473e60f0345f",
        "colab": {
          "base_uri": "https://localhost:8080/",
          "height": 107
        }
      },
      "source": [
        "ListA = []\n",
        "ListA = list(map(int, input(\"Input: \\n\").split()))\n",
        "\n",
        "for i in range(len(ListA)):\n",
        "  for j in range(i, len(ListA)):\n",
        "    AbsValue = 0\n",
        "    AbsValue = ListA[i] + ListA[j]\n",
        "    if (AbsValue < 0):\n",
        "      AbsValue *= - 1\n",
        "    if (i == 0 and j == 0):\n",
        "      MinAbsValue = AbsValue\n",
        "    if (MinAbsValue > AbsValue):\n",
        "      MinAbsValue = AbsValue\n",
        "\n",
        "print(\"\\nOutput: \\n%d\"%MinAbsValue)"
      ],
      "execution_count": 0,
      "outputs": [
        {
          "output_type": "stream",
          "text": [
            "Input: \n",
            "-8 4 5 -10 3\n",
            "\n",
            "Output: \n",
            "3\n"
          ],
          "name": "stdout"
        }
      ]
    }
  ]
}