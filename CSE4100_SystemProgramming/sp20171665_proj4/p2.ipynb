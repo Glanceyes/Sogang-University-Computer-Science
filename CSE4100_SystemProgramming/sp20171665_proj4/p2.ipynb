{
  "nbformat": 4,
  "nbformat_minor": 0,
  "metadata": {
    "colab": {
      "name": "p2.ipynb",
      "version": "0.3.2",
      "provenance": []
    },
    "kernelspec": {
      "name": "python3",
      "display_name": "Python 3"
    }
  },
  "cells": [
    {
      "cell_type": "code",
      "metadata": {
        "id": "kZr5e6M0N1CD",
        "colab_type": "code",
        "outputId": "72496dd0-73ad-4f8f-99d8-1cc7eb466148",
        "colab": {
          "base_uri": "https://localhost:8080/",
          "height": 125
        }
      },
      "source": [
        "def GetPDofList (ListA, ListB):\n",
        "  NumberofSamePD = 0\n",
        "  for i in range(len(ListA)):\n",
        "    PDofListA = set()\n",
        "    PDofListB = set()\n",
        "    for j in range(1, ListA[i] + 1):\n",
        "      if (ListA[i] % j == 0):\n",
        "        Counter = 0\n",
        "        for k in range(1, j + 1):\n",
        "          if (j % k == 0):\n",
        "            Counter += 1\n",
        "        if (Counter == 2): \n",
        "          PDofListA.add(j)\n",
        "    for j in range(1, ListB[i] + 1):\n",
        "      if (ListB[i] % j == 0):\n",
        "        Counter = 0\n",
        "        for k in range(1, j + 1):\n",
        "          if (j % k == 0):\n",
        "            Counter += 1\n",
        "        if (Counter == 2): \n",
        "          PDofListB.add(j)\n",
        "    if (PDofListA == PDofListB):\n",
        "      NumberofSamePD += 1\n",
        "  return NumberofSamePD\n",
        "    \n",
        "\n",
        "ListA = []\n",
        "ListB = []\n",
        "\n",
        "ListA = list(map(int, input(\"Input: \\n\").split()))\n",
        "ListB = list(map(int, input().split()))\n",
        "\n",
        "print(\"\\nOutput: \\n%d\"%GetPDofList(ListA, ListB))\n"
      ],
      "execution_count": 0,
      "outputs": [
        {
          "output_type": "stream",
          "text": [
            "Input: \n",
            "15 10 3\n",
            "75 30 5\n",
            "\n",
            "Output: \n",
            "1\n"
          ],
          "name": "stdout"
        }
      ]
    }
  ]
}