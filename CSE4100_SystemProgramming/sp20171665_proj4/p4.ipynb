{
  "nbformat": 4,
  "nbformat_minor": 0,
  "metadata": {
    "colab": {
      "name": "p4.ipynb",
      "version": "0.3.2",
      "provenance": [],
      "collapsed_sections": []
    },
    "kernelspec": {
      "name": "python3",
      "display_name": "Python 3"
    }
  },
  "cells": [
    {
      "cell_type": "code",
      "metadata": {
        "id": "QtJKFck9fwbr",
        "colab_type": "code",
        "outputId": "d5ef304d-01ee-4fb6-a597-1927b748149d",
        "colab": {
          "base_uri": "https://localhost:8080/",
          "height": 197
        }
      },
      "source": [
        "import numpy as np\n",
        "\n",
        "Size = int(input(\"Input: \\n\"))\n",
        "\n",
        "A = np.random.random((Size, Size))\n",
        "\n",
        "print(\"\\nOutput: \")\n",
        "print(A)\n",
        "\n",
        "RowNum, ColNum = A.shape\n",
        "\n",
        "NewRowNum = RowNum // 2\n",
        "NewColNum = ColNum // 2\n",
        "\n",
        "A = A[0:NewRowNum*2, 0:NewColNum*2].reshape(NewRowNum, 2, NewColNum, 2).max(axis=(1, 3))\n",
        "\n",
        "print(A)\n"
      ],
      "execution_count": 1,
      "outputs": [
        {
          "output_type": "stream",
          "text": [
            "Input: \n",
            "4\n",
            "\n",
            "Output: \n",
            "[[0.83188884 0.50496294 0.20485422 0.69936774]\n",
            " [0.81214546 0.38975543 0.51879002 0.77652964]\n",
            " [0.92015747 0.73063527 0.46316099 0.2341451 ]\n",
            " [0.85624807 0.1197388  0.57820452 0.49010029]]\n",
            "[[0.83188884 0.77652964]\n",
            " [0.92015747 0.57820452]]\n"
          ],
          "name": "stdout"
        }
      ]
    }
  ]
}